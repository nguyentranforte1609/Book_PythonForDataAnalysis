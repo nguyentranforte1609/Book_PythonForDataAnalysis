{
  "nbformat": 4,
  "nbformat_minor": 0,
  "metadata": {
    "colab": {
      "name": "Chapter04_NumPyBasics",
      "provenance": [],
      "collapsed_sections": [
        "g3n46uJ4x-fh",
        "tdpYausL1esw",
        "bdR_lfIp2fks",
        "8_tL8ZDG_o5A",
        "eXJSIlKuIHgm",
        "kgFRNauAX-GU",
        "eJhumjZFSu0b",
        "J9BVu2WRX20y",
        "AcTZYVo7CYqx"
      ],
      "include_colab_link": true
    },
    "kernelspec": {
      "name": "python3",
      "display_name": "Python 3"
    }
  },
  "cells": [
    {
      "cell_type": "markdown",
      "metadata": {
        "id": "view-in-github",
        "colab_type": "text"
      },
      "source": [
        "<a href=\"https://colab.research.google.com/github/nguyentranforte1609/Book_PythonForDataAnalysis/blob/master/Chapter04_NumPyBasics.ipynb\" target=\"_parent\"><img src=\"https://colab.research.google.com/assets/colab-badge.svg\" alt=\"Open In Colab\"/></a>"
      ]
    },
    {
      "cell_type": "markdown",
      "metadata": {
        "colab_type": "text",
        "id": "pZFNZ7eBx-Ck"
      },
      "source": [
        "# Chapter 04: NumPy Basics: Arrays and Vectorized Computation"
      ]
    },
    {
      "cell_type": "markdown",
      "metadata": {
        "id": "G8c49mSRs01R",
        "colab_type": "text"
      },
      "source": [
        "## Initial Setup"
      ]
    },
    {
      "cell_type": "code",
      "metadata": {
        "id": "50DrgCVBsv21",
        "colab_type": "code",
        "colab": {}
      },
      "source": [
        "import random\n",
        "import numpy as np\n",
        "import matplotlib.pyplot as plt\n",
        "%matplotlib inline"
      ],
      "execution_count": 0,
      "outputs": []
    },
    {
      "cell_type": "markdown",
      "metadata": {
        "id": "g3n46uJ4x-fh",
        "colab_type": "text"
      },
      "source": [
        "## Why NumPy?\n"
      ]
    },
    {
      "cell_type": "markdown",
      "metadata": {
        "id": "RJ7VnwCEIdce",
        "colab_type": "text"
      },
      "source": [
        "- **ndarray**, an efficient multidimensional array providing fast array-oriented arithmetic operation and flexible broadcasting capabilites.\n",
        "- Mathematical functions for fast operations on entire arrays of data without having to write loops.\n",
        "- Tools for reading/writing array data to disk and working with memory-mapped files.\n",
        "- Linear algebra, random number generation,and Fourier transform capabilities.\n",
        "- A C API for connecting NumPy with libraries written in C, C++, or FORTRAN"
      ]
    },
    {
      "cell_type": "code",
      "metadata": {
        "id": "7V1P-lmSzMPj",
        "colab_type": "code",
        "colab": {
          "base_uri": "https://localhost:8080/",
          "height": 84
        },
        "outputId": "51a5ddb5-4806-4300-8cdb-f96eb93d7ce4"
      },
      "source": [
        "#Example - Performance of NumPy vs basic Python list\n",
        "import numpy as np\n",
        "\n",
        "basicList = list(range(1000000))\n",
        "numpyList = np.arange(1000000)\n",
        "\n",
        "%time for _ in range(10): basicList*2\n",
        "%time for _ in range(10): numpyList*2"
      ],
      "execution_count": 2,
      "outputs": [
        {
          "output_type": "stream",
          "text": [
            "CPU times: user 217 ms, sys: 13 ms, total: 230 ms\n",
            "Wall time: 230 ms\n",
            "CPU times: user 18.6 ms, sys: 0 ns, total: 18.6 ms\n",
            "Wall time: 18.6 ms\n"
          ],
          "name": "stdout"
        }
      ]
    },
    {
      "cell_type": "markdown",
      "metadata": {
        "id": "tdpYausL1esw",
        "colab_type": "text"
      },
      "source": [
        "## 4.1 The NumPy ndarray: A Multidimensional Array Object"
      ]
    },
    {
      "cell_type": "markdown",
      "metadata": {
        "id": "bdR_lfIp2fks",
        "colab_type": "text"
      },
      "source": [
        "### Creating narrays"
      ]
    },
    {
      "cell_type": "markdown",
      "metadata": {
        "id": "eo1ueeqi2z40",
        "colab_type": "text"
      },
      "source": [
        "- Using `numpy.array()` function\n",
        "- The `numpy.array()` function accepts any sequence-like object and produces a new NumPy array."
      ]
    },
    {
      "cell_type": "code",
      "metadata": {
        "id": "FIEm2hEx3RYJ",
        "colab_type": "code",
        "outputId": "b1262eeb-b4fb-48e5-f8cc-93935152a1b1",
        "colab": {
          "base_uri": "https://localhost:8080/",
          "height": 34
        }
      },
      "source": [
        "#Example - Creating 1-dimensional array\n",
        "temp = [1,2.3,4,5,66]\n",
        "\n",
        "arr = np.array(temp)\n",
        "arr"
      ],
      "execution_count": 3,
      "outputs": [
        {
          "output_type": "execute_result",
          "data": {
            "text/plain": [
              "array([ 1. ,  2.3,  4. ,  5. , 66. ])"
            ]
          },
          "metadata": {
            "tags": []
          },
          "execution_count": 3
        }
      ]
    },
    {
      "cell_type": "markdown",
      "metadata": {
        "id": "nlG2iM233pDK",
        "colab_type": "text"
      },
      "source": [
        "- Nested sequences will be converted into a multidimensional array"
      ]
    },
    {
      "cell_type": "code",
      "metadata": {
        "id": "qK9Fqk-A3ymB",
        "colab_type": "code",
        "outputId": "3f6ffe56-ca35-456b-8561-768a0aac5fca",
        "colab": {
          "base_uri": "https://localhost:8080/",
          "height": 134
        }
      },
      "source": [
        "#Example - Creating 2-dimensionl array\n",
        "temp = [\n",
        "    [2,3,4,5],\n",
        "    [6,7,8,9]\n",
        "]\n",
        "\n",
        "arr = np.array(temp)\n",
        "print('Array: \\n{}\\n'.format(arr))\n",
        "\n",
        "print('Number of dimension: {}\\n'.format(arr.ndim))\n",
        "\n",
        "print('Shape: {}'.format(arr.shape))"
      ],
      "execution_count": 6,
      "outputs": [
        {
          "output_type": "stream",
          "text": [
            "Array: \n",
            "[[2 3 4 5]\n",
            " [6 7 8 9]]\n",
            "\n",
            "Number of dimension: 2\n",
            "\n",
            "Shape: (2, 4)\n"
          ],
          "name": "stdout"
        }
      ]
    },
    {
      "cell_type": "markdown",
      "metadata": {
        "id": "UjL-mnDN7dqA",
        "colab_type": "text"
      },
      "source": [
        "- Unless ***explicitly specified***, `numpy.array()` tries to infer a good data type for the array that it creates.\n",
        "- There are many function for creating new arrays such as `numpy.zeros()`, `numpy.empty()`, etc.\n",
        "\n",
        "<h3><b>IMPORTANT NOTE</b>:</h3> \n",
        "\n",
        "> It's not safe to **assume** that `numpy.empty()` will return an array of all zeros. In somecases, it may return uninitialized \"**garbage**\" values."
      ]
    },
    {
      "cell_type": "markdown",
      "metadata": {
        "id": "4Bj39QRb80-O",
        "colab_type": "text"
      },
      "source": [
        "- Some standard creation function  \n",
        "\n",
        "| Function | Description |\n",
        "|----------|-------------|\n",
        "| array | Convert input data (list, tuple, array, or other sequence type) to an ndarray either by inferring a dtype or explicitly specifying a dtype; copies the input data by default|\n",
        "| asarray | Convert input to ndarray, but do not copy if the input is already an ndarray| \n",
        "| arange | Like the built-in range but returns an ndarray instead of a list\n",
        "| ones, <br>ones_like | Produce an array of all 1s with the given shape and dtype; <br>ones_like takes another array and produces a ones array of the same shape and dtype| \n",
        "| zeros, <br>zeros_like | Like ones and ones_like but producing arrays of 0s instead| \n",
        "| empty, empty_like | Create new arrays by allocating new memory, but do not populate with any values like ones and zeros| \n",
        "| full, <br>full_like | Produce an array of the given shape and dtype with all values set to the indicated “fill value” <br> full_like takes another array and produces a filled array of the same shape and dtype| \n",
        "| eye, identity | Create a square N × N identity matrix (1s on the diagonal and 0s elsewhere)| "
      ]
    },
    {
      "cell_type": "markdown",
      "metadata": {
        "id": "8_tL8ZDG_o5A",
        "colab_type": "text"
      },
      "source": [
        "### Data Types for ndarrays"
      ]
    },
    {
      "cell_type": "markdown",
      "metadata": {
        "id": "InXlgUUaEDCa",
        "colab_type": "text"
      },
      "source": [
        "- The data type or `dtype` is a special object containing the information (or metadata) the ndarray needs to interpret a chunk of memory as a particular type of data.\n",
        "- `dtype` is a source of NumPy's flexibility for interacting with data coming from other systems. In most cases, they provide a mapping directly onto an underlying disk or memory representation, which makes it easy to read and write binary stream of data to disk and also to connect to code written in a low-level language like C or Fortran."
      ]
    },
    {
      "cell_type": "markdown",
      "metadata": {
        "id": "TGuI_Cyn_5z4",
        "colab_type": "text"
      },
      "source": [
        "- NumPy data types\n",
        "\n",
        "| Type | Type code | Description |\n",
        "|------|-----------|-------------|\n",
        "| int8, uint8 | i1, u1 | Signed and unsigned 8-bit (1 byte) integer types| \n",
        "| int16, uint16 | i2, u2 | Signed and unsigned 16-bit integer types| \n",
        "| int32, uint32 | i4, u4|  Signed and unsigned 32-bit integer types| \n",
        "| int64, uint64 | i8, u8|  Signed and unsigned 64-bit integer types| \n",
        "| float16 | f2 | Half-precision floating point| \n",
        "| float32 | f4 or f|  Standard single-precision floating point; compatible with C float| \n",
        "| float64 | f8 or d|  Standard double-precision floating point; compatible with C double and\n",
        "Python float object| \n",
        "| float128 | f16 or g|  Extended-precision floating point| \n",
        "| complex64, <br>complex128, <br>complex256|  c8, c16, c32| Complex numbers represented by two 32, 64, or 128 floats, respectively| \n",
        "| bool | ? | Boolean type storing True and False values| \n",
        "| object | O | Python object type; a value can be any Python object| \n",
        "| string_ | S|  Fixed-length ASCII string type (1 byte per character); for example, to create a\n",
        "string dtype with length 10, use 'S10'| \n",
        "| unicode_ | U | Fixed-length Unicode type (number of bytes platform specific); same specification semantics as string_ (e.g., 'U10')| \n"
      ]
    },
    {
      "cell_type": "markdown",
      "metadata": {
        "id": "u0ErDRkB_uOz",
        "colab_type": "text"
      },
      "source": [
        "<h3><b>IMPORTANT NOTE:</b></h3>\n",
        "\n",
        "> - It's important to be cautious when using the `numpy.string_` type as string data in NumPy is **fixed size** and may **truncate input** without warning.\n",
        "> - If casting were to fail for some reason, a **`ValueError`** will be raised."
      ]
    },
    {
      "cell_type": "markdown",
      "metadata": {
        "id": "eXJSIlKuIHgm",
        "colab_type": "text"
      },
      "source": [
        "### Arithmetic with NumPy Arrays"
      ]
    },
    {
      "cell_type": "markdown",
      "metadata": {
        "id": "ZWUaNNTLINuz",
        "colab_type": "text"
      },
      "source": [
        "- NumPy arrays allow users to express batch operation on data without any for loops. This is called **vectorization**\n",
        "- Any arithmetic operations between **equal-size** arrays applies the operation element-wise\n",
        "- Comparisions between arrays of the **same size** yield boolean arrays"
      ]
    },
    {
      "cell_type": "code",
      "metadata": {
        "id": "XGdvWfLtKGxp",
        "colab_type": "code",
        "outputId": "313600e0-46ef-4b61-ff51-ea564f7a163a",
        "colab": {
          "base_uri": "https://localhost:8080/",
          "height": 101
        }
      },
      "source": [
        "arr01 = np.array([\n",
        "                  [1,2,3],\n",
        "                  [3,4,6]\n",
        "])\n",
        "\n",
        "arr02 = np.array([\n",
        "                  [2,2,2],\n",
        "                  [3,3,3]\n",
        "])\n",
        "\n",
        "print('{}\\n'.format(arr01*arr02))\n",
        "\n",
        "print('{}'.format(arr01>arr02))"
      ],
      "execution_count": 7,
      "outputs": [
        {
          "output_type": "stream",
          "text": [
            "[[ 2  4  6]\n",
            " [ 9 12 18]]\n",
            "\n",
            "[[False False  True]\n",
            " [False  True  True]]\n"
          ],
          "name": "stdout"
        }
      ]
    },
    {
      "cell_type": "markdown",
      "metadata": {
        "id": "ywPtcBIJLHzu",
        "colab_type": "text"
      },
      "source": [
        "### Basic Indexing and Slicing"
      ]
    },
    {
      "cell_type": "markdown",
      "metadata": {
        "id": "R3rmYvpqNAtc",
        "colab_type": "text"
      },
      "source": [
        "<h4><b>IMPORTANT NOTE:</b></h4>\n",
        "\n",
        "> Array slices in NumPy are **views** on the original array. This mean that the data **is not copied**, and any **modification** to the view will be **reflected** in the source array."
      ]
    },
    {
      "cell_type": "code",
      "metadata": {
        "id": "zX_Yrza1Ni5E",
        "colab_type": "code",
        "colab": {
          "base_uri": "https://localhost:8080/",
          "height": 101
        },
        "outputId": "18cd0eac-ad44-4ce0-c0e8-e36ab4b5b8c7"
      },
      "source": [
        "#Example - Modify array slice\n",
        "arr = np.array([1,2,3,4,5])\n",
        "print('arr: {}\\n'.format(arr))\n",
        "\n",
        "temp = arr[1:4]\n",
        "print('temp: {}\\n'.format(temp))\n",
        "\n",
        "temp[1] = 999\n",
        "print('arr: {}'.format(arr))"
      ],
      "execution_count": 9,
      "outputs": [
        {
          "output_type": "stream",
          "text": [
            "arr: [1 2 3 4 5]\n",
            "\n",
            "temp: [2 3 4]\n",
            "\n",
            "arr: [  1   2 999   4   5]\n"
          ],
          "name": "stdout"
        }
      ]
    },
    {
      "cell_type": "code",
      "metadata": {
        "id": "EVZwnau_RJEj",
        "colab_type": "code",
        "colab": {
          "base_uri": "https://localhost:8080/",
          "height": 67
        },
        "outputId": "e60ac8cc-d681-4f76-81b0-1eb5cf103a56"
      },
      "source": [
        "# Example - Access ndarray value\n",
        "arr2d = np.array([\n",
        "                [1,2,3],\n",
        "                [4,5,6],\n",
        "                [7,8,9]\n",
        "])\n",
        "\n",
        "print(arr2d[0][2], end='\\n\\n')\n",
        "# equivalent\n",
        "print(arr2d[0, 2])"
      ],
      "execution_count": 11,
      "outputs": [
        {
          "output_type": "stream",
          "text": [
            "3\n",
            "\n",
            "3\n"
          ],
          "name": "stdout"
        }
      ]
    },
    {
      "cell_type": "markdown",
      "metadata": {
        "id": "NWX0KB8BPnH4",
        "colab_type": "text"
      },
      "source": [
        "- Indexing with slices"
      ]
    },
    {
      "cell_type": "code",
      "metadata": {
        "id": "jFOraXMyPq7M",
        "colab_type": "code",
        "colab": {
          "base_uri": "https://localhost:8080/",
          "height": 168
        },
        "outputId": "6a0343e6-3c28-461b-fc51-6a97e7f839fb"
      },
      "source": [
        "# Example - Slice ndarray\n",
        "arr2d = np.array([\n",
        "                [1,2,3],\n",
        "                [4,5,6],\n",
        "                [7,8,9]\n",
        "])\n",
        "\n",
        "print(arr2d[:2], end='\\n\\n') # select the first two row of arr2d\n",
        "\n",
        "print(arr2d[:2, 1:], end='\\n\\n') # select the first two row of arr2d without values in the first column\n",
        "\n",
        "print(arr2d[1, :2], end='\\n\\n') # select the second row and take the first two values of arr2d\n",
        "\n",
        "print(arr2d[:2, 2]) # select first two row and take the third column of arr2d"
      ],
      "execution_count": 13,
      "outputs": [
        {
          "output_type": "stream",
          "text": [
            "[[1 2 3]\n",
            " [4 5 6]]\n",
            "\n",
            "[[2 3]\n",
            " [5 6]]\n",
            "\n",
            "[4 5]\n",
            "\n",
            "[3 6]\n"
          ],
          "name": "stdout"
        }
      ]
    },
    {
      "cell_type": "markdown",
      "metadata": {
        "id": "E2VJwxCw8il3",
        "colab_type": "text"
      },
      "source": [
        "- Boolean indexing"
      ]
    },
    {
      "cell_type": "code",
      "metadata": {
        "id": "r6K3DTQI8ngN",
        "colab_type": "code",
        "colab": {
          "base_uri": "https://localhost:8080/",
          "height": 252
        },
        "outputId": "9f597114-6dcc-4447-c6c6-664c42bea80d"
      },
      "source": [
        "# Example - Boolean selection\n",
        "names = np.array(['Bob', 'Joe', 'Will', 'Bob', 'Will', 'Joe', 'Joe'])\n",
        "\n",
        "data = np.random.randn(7,4)\n",
        "\n",
        "print(data, end='\\n\\n')\n",
        "print(names, end='\\n\\n')\n",
        "\n",
        "\n",
        "print(names == 'Bob', end='\\n\\n')\n",
        "\n",
        "# Passing boolean array as argument\n",
        "# It will select elements with index 0 and index 3 according to the boolean array\n",
        "print(data[names == 'Bob'])"
      ],
      "execution_count": 14,
      "outputs": [
        {
          "output_type": "stream",
          "text": [
            "[[-1.29777953  0.88239107  0.05540332 -0.22518297]\n",
            " [ 0.05241533  0.67237201  1.53988555  0.14764749]\n",
            " [ 1.13675572 -0.6684713  -0.69529571 -0.96646405]\n",
            " [-1.10348723 -0.36531689  1.09799123  0.68423413]\n",
            " [-1.53111685  0.4718194  -1.54361444 -0.82691076]\n",
            " [-0.98027055 -0.33589404  0.58009417 -0.57575743]\n",
            " [-2.96458748 -1.02301293 -0.98021581 -0.9682645 ]]\n",
            "\n",
            "['Bob' 'Joe' 'Will' 'Bob' 'Will' 'Joe' 'Joe']\n",
            "\n",
            "[ True False False  True False False False]\n",
            "\n",
            "[[-1.29777953  0.88239107  0.05540332 -0.22518297]\n",
            " [-1.10348723 -0.36531689  1.09799123  0.68423413]]\n"
          ],
          "name": "stdout"
        }
      ]
    },
    {
      "cell_type": "code",
      "metadata": {
        "id": "25q7jDja_bAw",
        "colab_type": "code",
        "colab": {
          "base_uri": "https://localhost:8080/",
          "height": 302
        },
        "outputId": "b09a8c72-66cd-4f81-88a4-658ac50bd4d1"
      },
      "source": [
        "# Example - Boolean selection & using ~\n",
        "names = np.array(['Bob', 'Joe', 'Will', 'Bob', 'Will', 'Joe', 'Joe'])\n",
        "\n",
        "data = np.random.randn(7,4)\n",
        "\n",
        "print(data, end='\\n\\n')\n",
        "print(names, end='\\n\\n')\n",
        "\n",
        "\n",
        "print(~(names == 'Bob'), end='\\n\\n') # We can replace == with != instead of using ~\n",
        "\n",
        "# Passing boolean array as argument\n",
        "# It will select elements with index 1,2,4,5,6 according to the boolean array\n",
        "print(data[~(names == 'Bob')])"
      ],
      "execution_count": 15,
      "outputs": [
        {
          "output_type": "stream",
          "text": [
            "[[-0.92640967  0.46089313 -1.61878732 -0.22863467]\n",
            " [-0.79935709  0.40888487  2.01658319 -0.66081578]\n",
            " [ 1.1645804  -0.25696932 -0.79585073  1.20265852]\n",
            " [ 1.1142852   2.16214445  0.66557136 -0.41224627]\n",
            " [ 0.04126758  1.76650382 -1.20038839  3.09797943]\n",
            " [-0.32594252 -0.70424453  1.19525917 -0.53350843]\n",
            " [-1.7707916  -1.764185   -0.89782915  0.6708117 ]]\n",
            "\n",
            "['Bob' 'Joe' 'Will' 'Bob' 'Will' 'Joe' 'Joe']\n",
            "\n",
            "[False  True  True False  True  True  True]\n",
            "\n",
            "[[-0.79935709  0.40888487  2.01658319 -0.66081578]\n",
            " [ 1.1645804  -0.25696932 -0.79585073  1.20265852]\n",
            " [ 0.04126758  1.76650382 -1.20038839  3.09797943]\n",
            " [-0.32594252 -0.70424453  1.19525917 -0.53350843]\n",
            " [-1.7707916  -1.764185   -0.89782915  0.6708117 ]]\n"
          ],
          "name": "stdout"
        }
      ]
    },
    {
      "cell_type": "code",
      "metadata": {
        "id": "YqOnAfQ4GYy3",
        "colab_type": "code",
        "colab": {
          "base_uri": "https://localhost:8080/",
          "height": 286
        },
        "outputId": "63e6ba49-d216-402f-937c-3215bd83a25c"
      },
      "source": [
        "# Example - Boolean selection & compile multiple boolean conditions\n",
        "names = np.array(['Bob', 'Joe', 'Will', 'Bob', 'Will', 'Joe', 'Joe'])\n",
        "\n",
        "data = np.random.randn(7,4)\n",
        "\n",
        "print(data, end='\\n\\n')\n",
        "print(names, end='\\n\\n')\n",
        "\n",
        "conditions = (names == 'Bob') | (names == 'Will')\n",
        "\n",
        "print(conditions, end='\\n\\n')\n",
        "\n",
        "# Passing boolean array as argument\n",
        "# It will select elements with index 0,2,3,4 according to the boolean array\n",
        "print(data[conditions])"
      ],
      "execution_count": 16,
      "outputs": [
        {
          "output_type": "stream",
          "text": [
            "[[ 1.42921395  0.34362504 -0.51972802 -0.86169599]\n",
            " [ 0.2691004   1.26547251 -0.11439608 -0.35886461]\n",
            " [ 0.32204258  1.67284873  1.08152173  0.1127353 ]\n",
            " [ 1.33724061 -0.07301495  0.06145295  1.24080329]\n",
            " [ 0.8213603  -1.70431125  1.2771061   0.93330245]\n",
            " [ 0.98054952  0.9218433  -0.89379968 -0.04525022]\n",
            " [-0.17166593  0.8373808   0.27862537 -1.29112038]]\n",
            "\n",
            "['Bob' 'Joe' 'Will' 'Bob' 'Will' 'Joe' 'Joe']\n",
            "\n",
            "[ True False  True  True  True False False]\n",
            "\n",
            "[[ 1.42921395  0.34362504 -0.51972802 -0.86169599]\n",
            " [ 0.32204258  1.67284873  1.08152173  0.1127353 ]\n",
            " [ 1.33724061 -0.07301495  0.06145295  1.24080329]\n",
            " [ 0.8213603  -1.70431125  1.2771061   0.93330245]]\n"
          ],
          "name": "stdout"
        }
      ]
    },
    {
      "cell_type": "code",
      "metadata": {
        "id": "4iTarPzkH1hp",
        "colab_type": "code",
        "colab": {
          "base_uri": "https://localhost:8080/",
          "height": 269
        },
        "outputId": "6aedfb44-2224-4585-a5a1-d7968f7fe13c"
      },
      "source": [
        "# Example - Set new value for array based on conditions\n",
        "data = np.random.randn(7,4)\n",
        "\n",
        "print(data, end='\\n\\n')\n",
        "\n",
        "data[data < 0] = 0 # Set all elements have value < 0 to 0\n",
        "print(data)"
      ],
      "execution_count": 17,
      "outputs": [
        {
          "output_type": "stream",
          "text": [
            "[[ 0.17288467 -0.28922831  0.19077007 -1.74570486]\n",
            " [-0.80543274  1.17243711  0.62268204 -2.54757975]\n",
            " [ 1.65613364 -0.9628291  -0.20307531 -0.79791838]\n",
            " [ 1.43764323 -0.77369804 -0.08740713  0.61771954]\n",
            " [ 1.72513141  0.51224454 -2.39318891  1.18068021]\n",
            " [-1.06946793  1.35263433 -1.63076372  0.38262276]\n",
            " [ 0.12584287 -1.06847726  0.78087019 -2.9810452 ]]\n",
            "\n",
            "[[0.17288467 0.         0.19077007 0.        ]\n",
            " [0.         1.17243711 0.62268204 0.        ]\n",
            " [1.65613364 0.         0.         0.        ]\n",
            " [1.43764323 0.         0.         0.61771954]\n",
            " [1.72513141 0.51224454 0.         1.18068021]\n",
            " [0.         1.35263433 0.         0.38262276]\n",
            " [0.12584287 0.         0.78087019 0.        ]]\n"
          ],
          "name": "stdout"
        }
      ]
    },
    {
      "cell_type": "markdown",
      "metadata": {
        "id": "2M9d5JsP-Zja",
        "colab_type": "text"
      },
      "source": [
        "<h4><b>IMPORTANT NOTE:</b></h4>\n",
        "\n",
        "> - Boolean selection will not fail if the boolean array is not the correct length.\n",
        "> - The Python keyword `and` and `or` **do not work** with boolean arrays. Use **&** and **|** instead."
      ]
    },
    {
      "cell_type": "markdown",
      "metadata": {
        "id": "ArHF6fn4IR3n",
        "colab_type": "text"
      },
      "source": [
        "- Fancy Indexing"
      ]
    },
    {
      "cell_type": "code",
      "metadata": {
        "id": "YOhwmOcoIlaC",
        "colab_type": "code",
        "colab": {
          "base_uri": "https://localhost:8080/",
          "height": 185
        },
        "outputId": "3a81a74d-5bf5-4adf-a4ca-97608263d260"
      },
      "source": [
        "# Example - Select list of row using 1-dimension list/array of integers\n",
        "arr2d = np.empty((6,4))\n",
        "\n",
        "for i in range(6):\n",
        "    arr2d[i] = i\n",
        "    \n",
        "print(arr2d, end='\\n\\n')\n",
        "\n",
        "subArray = arr2d[[4,2,5]]\n",
        "\n",
        "print(subArray)"
      ],
      "execution_count": 18,
      "outputs": [
        {
          "output_type": "stream",
          "text": [
            "[[0. 0. 0. 0.]\n",
            " [1. 1. 1. 1.]\n",
            " [2. 2. 2. 2.]\n",
            " [3. 3. 3. 3.]\n",
            " [4. 4. 4. 4.]\n",
            " [5. 5. 5. 5.]]\n",
            "\n",
            "[[4. 4. 4. 4.]\n",
            " [2. 2. 2. 2.]\n",
            " [5. 5. 5. 5.]]\n"
          ],
          "name": "stdout"
        }
      ]
    },
    {
      "cell_type": "code",
      "metadata": {
        "id": "1a0FjCs5R_Pw",
        "colab_type": "code",
        "colab": {
          "base_uri": "https://localhost:8080/",
          "height": 185
        },
        "outputId": "fb421e60-e084-4e09-fe93-e52c2ac8e744"
      },
      "source": [
        "# Example - Select listof row using 2-dimension list/array of integers\n",
        "arr2d = np.arange(32).reshape((8,4))\n",
        "\n",
        "print(arr2d, end='\\n\\n')\n",
        "\n",
        "subArray = arr2d[[1,5,7,2], \n",
        "                 [0,3,2,1]]\n",
        "# Select elements (1,0), (5,3), (7,2) and (2,1) in arr2d\n",
        "\n",
        "print(subArray)\n",
        "# [ 4 23 30  9]\n",
        "# Explain: \n",
        "# The first pair in [[1,5,7,2], \n",
        "#                    [0,3,2,1]]\n",
        "# is 1 and 0\n",
        "# First, we select the row with index = 1 which is [ 4  5  6  7] in arr2d\n",
        "# then we choose the column with index = 0 and we have 4"
      ],
      "execution_count": 20,
      "outputs": [
        {
          "output_type": "stream",
          "text": [
            "[[ 0  1  2  3]\n",
            " [ 4  5  6  7]\n",
            " [ 8  9 10 11]\n",
            " [12 13 14 15]\n",
            " [16 17 18 19]\n",
            " [20 21 22 23]\n",
            " [24 25 26 27]\n",
            " [28 29 30 31]]\n",
            "\n",
            "[ 4 23 30  9]\n"
          ],
          "name": "stdout"
        }
      ]
    },
    {
      "cell_type": "markdown",
      "metadata": {
        "id": "bXbHZ70CWD0t",
        "colab_type": "text"
      },
      "source": [
        "- Transposing Arrays and Swapping Axes"
      ]
    },
    {
      "cell_type": "code",
      "metadata": {
        "id": "lNVTWJU2WI0m",
        "colab_type": "code",
        "colab": {
          "base_uri": "https://localhost:8080/",
          "height": 168
        },
        "outputId": "31a25f6f-382f-45ba-e54b-e1a670aef775"
      },
      "source": [
        "# Example - Transpose array <numpy.array>.T\n",
        "arr = np.arange(15).reshape((3,5))\n",
        "\n",
        "print(arr, end='\\n\\n')\n",
        "\n",
        "print(arr.T)"
      ],
      "execution_count": 21,
      "outputs": [
        {
          "output_type": "stream",
          "text": [
            "[[ 0  1  2  3  4]\n",
            " [ 5  6  7  8  9]\n",
            " [10 11 12 13 14]]\n",
            "\n",
            "[[ 0  5 10]\n",
            " [ 1  6 11]\n",
            " [ 2  7 12]\n",
            " [ 3  8 13]\n",
            " [ 4  9 14]]\n"
          ],
          "name": "stdout"
        }
      ]
    },
    {
      "cell_type": "code",
      "metadata": {
        "id": "J8a0VmwOXDAs",
        "colab_type": "code",
        "colab": {
          "base_uri": "https://localhost:8080/",
          "height": 202
        },
        "outputId": "a6ba5e77-0c3f-4647-8bd8-ee64ac1a3b6b"
      },
      "source": [
        "# Example - Transpose array >=3D arrays\n",
        "arr = np.arange(16).reshape((2,2,4))\n",
        "\n",
        "print(arr, end='\\n\\n')\n",
        "\n",
        "print(arr.transpose((1,0,2)))"
      ],
      "execution_count": 22,
      "outputs": [
        {
          "output_type": "stream",
          "text": [
            "[[[ 0  1  2  3]\n",
            "  [ 4  5  6  7]]\n",
            "\n",
            " [[ 8  9 10 11]\n",
            "  [12 13 14 15]]]\n",
            "\n",
            "[[[ 0  1  2  3]\n",
            "  [ 8  9 10 11]]\n",
            "\n",
            " [[ 4  5  6  7]\n",
            "  [12 13 14 15]]]\n"
          ],
          "name": "stdout"
        }
      ]
    },
    {
      "cell_type": "code",
      "metadata": {
        "id": "x0MDN4ESXrwM",
        "colab_type": "code",
        "colab": {
          "base_uri": "https://localhost:8080/",
          "height": 269
        },
        "outputId": "d8c5609e-b211-492f-98dc-585ebe2a577b"
      },
      "source": [
        "# Example - Swapping Axes\n",
        "arr = np.arange(16).reshape((2,2,4))\n",
        "\n",
        "print(arr, end='\\n\\n')\n",
        "\n",
        "print(arr.swapaxes(1,2))"
      ],
      "execution_count": 23,
      "outputs": [
        {
          "output_type": "stream",
          "text": [
            "[[[ 0  1  2  3]\n",
            "  [ 4  5  6  7]]\n",
            "\n",
            " [[ 8  9 10 11]\n",
            "  [12 13 14 15]]]\n",
            "\n",
            "[[[ 0  4]\n",
            "  [ 1  5]\n",
            "  [ 2  6]\n",
            "  [ 3  7]]\n",
            "\n",
            " [[ 8 12]\n",
            "  [ 9 13]\n",
            "  [10 14]\n",
            "  [11 15]]]\n"
          ],
          "name": "stdout"
        }
      ]
    },
    {
      "cell_type": "markdown",
      "metadata": {
        "id": "kgFRNauAX-GU",
        "colab_type": "text"
      },
      "source": [
        "## 4.2 Universal Functions: Fast Element-Wise Array Functions"
      ]
    },
    {
      "cell_type": "markdown",
      "metadata": {
        "id": "rP5GonoGU2Cy",
        "colab_type": "text"
      },
      "source": [
        "### What is an Unversal Function?"
      ]
    },
    {
      "cell_type": "markdown",
      "metadata": {
        "id": "C8X6jcNWU8c2",
        "colab_type": "text"
      },
      "source": [
        "- A universal function, or *ufunc*, is a function that performs element-wise operations on data in ndarrays."
      ]
    },
    {
      "cell_type": "markdown",
      "metadata": {
        "id": "VQk8Ux5MRDr4",
        "colab_type": "text"
      },
      "source": [
        "### Unary universal functions"
      ]
    },
    {
      "cell_type": "markdown",
      "metadata": {
        "id": "PKOEgxFbRF0q",
        "colab_type": "text"
      },
      "source": [
        "| Function | Description |\n",
        "|----------|-------------|\n",
        "| abs, fabs| Compute the absolute value element-wise for integer, floating-point, or complex values| \n",
        "| sqrt | Compute the square root of each element (equivalent to arr ** 0.5)| \n",
        "| square | Compute the square of each element (equivalent to arr ** 2)| \n",
        "| exp | Compute the exponent ex of each element| \n",
        "| log, log10, <br>log2, log1p| Natural logarithm (base e), log base 10, log base 2, and log(1 + x), respectively| \n",
        "| sign | Compute the sign of each element: 1 (positive), 0 (zero), or –1 (negative)| \n",
        "| ceil | Compute the ceiling of each element (i.e., the smallest integer greater than or equal to that number)| \n",
        "| floor | Compute the floor of each element (i.e., the largest integer less than or equal to each element)| \n",
        "| rint | Round elements to the nearest integer, preserving the dtype| \n",
        "| modf | Return fractional and integral parts of array as a separate array| \n",
        "| isnan | Return boolean array indicating whether each value is NaN (Not a Number)| \n",
        "| isfinite, isinf|  Return boolean array indicating whether each element is finite (non-inf, non-NaN) or infinite, respectively| \n",
        "| cos, cosh, sin, <br>sinh, tan, tanh| Regular and hyperbolic trigonometric functions| \n",
        "| arccos, arccosh, <br> arcsin, arcsinh, <br> arctan, arctanh | Inverse trigonometric functions| \n",
        "| logical_not | Compute truth value of not x element-wise (equivalent to ~arr)| \n"
      ]
    },
    {
      "cell_type": "markdown",
      "metadata": {
        "id": "OUfuKk7WQ6wt",
        "colab_type": "text"
      },
      "source": [
        "### Binary universal functions"
      ]
    },
    {
      "cell_type": "markdown",
      "metadata": {
        "id": "6mdRWR59SAvp",
        "colab_type": "text"
      },
      "source": [
        "| Function | Description |\n",
        "|----------|-------------|\n",
        "| add | Add corresponding elements in arrays| \n",
        "| subtract | Subtract elements in second array from first array| \n",
        "| multiply | Multiply array elements| \n",
        "| divide, floor_divide | Divide or floor divide (truncating the remainder)| \n",
        "| power | Raise elements in first array to powers indicated in second array| \n",
        "| maximum, fmax | Element-wise maximum; fmax ignores NaN| \n",
        "| minimum, fmin | Element-wise minimum; fmin ignores NaN| \n",
        "| mod | Element-wise modulus (remainder of division)\n",
        "| copysign | Copy sign of values in second argument to values in first argument| \n",
        "| greater, greater_equal, <br>less, less_equal, <br> equal, not_equal | Perform element-wise comparison, yielding boolean array (equivalent to infix operators >, >=, <, <=, ==, !=)| \n",
        "| logical_and, <br>logical_or, <br>logical_xor | Compute element-wise truth value of logical operation (equivalent to infix operators & |, ^)| "
      ]
    },
    {
      "cell_type": "markdown",
      "metadata": {
        "id": "eJhumjZFSu0b",
        "colab_type": "text"
      },
      "source": [
        "## 4.3 Array-Oriented Programming with Arrays"
      ]
    },
    {
      "cell_type": "markdown",
      "metadata": {
        "id": "J9BVu2WRX20y",
        "colab_type": "text"
      },
      "source": [
        "### Expressing Conditional Logic as Array Operation"
      ]
    },
    {
      "cell_type": "markdown",
      "metadata": {
        "id": "oo0vMJIkcQl4",
        "colab_type": "text"
      },
      "source": [
        "- The `numpy.where` function is a vetorized version of the ternary expression `x if condition else y`.\n",
        "- Can be used to produce a new array of values based on another array."
      ]
    },
    {
      "cell_type": "code",
      "metadata": {
        "id": "Lwnr95o2dNZ3",
        "colab_type": "code",
        "outputId": "bfd1759b-ee35-4fdc-9962-179e457fbe4b",
        "colab": {
          "base_uri": "https://localhost:8080/",
          "height": 51
        }
      },
      "source": [
        "# Example - Using numpy.where vs Using typical condition expression\n",
        "xarr = np.array([1.1, 1.2, 1.3, 1.4, 1.5])\n",
        "yarr = np.array([2.1, 2.2, 2.3, 2.4, 2.5])\n",
        "cond = np.array([True, False, True, True, False])\n",
        "\n",
        "# Using typical expression\n",
        "result01 = [(x if c else y) for x,y,c in zip(xarr,yarr,cond)]\n",
        "print(result01) # result01 is a list\n",
        "# [1.1, 2.2, 1.3, 1.4, 2.5]\n",
        "\n",
        "# Using numpy.where\n",
        "result02 = np.where(cond, xarr, yarr)\n",
        "print(result02) # result02 is a numpy.array\n",
        "# [1.1 2.2 1.3 1.4 2.5]"
      ],
      "execution_count": 0,
      "outputs": [
        {
          "output_type": "stream",
          "text": [
            "[1.1, 2.2, 1.3, 1.4, 2.5]\n",
            "[1.1 2.2 1.3 1.4 2.5]\n"
          ],
          "name": "stdout"
        }
      ]
    },
    {
      "cell_type": "markdown",
      "metadata": {
        "id": "krQyNywpgTQG",
        "colab_type": "text"
      },
      "source": [
        "### Mathematical and Statistical Methods"
      ]
    },
    {
      "cell_type": "markdown",
      "metadata": {
        "id": "iKgFvzC6g7J1",
        "colab_type": "text"
      },
      "source": [
        "- A set of mathematical functions that compute statistics about an entire array or about the data along an axis are accessible as methods of the array class"
      ]
    },
    {
      "cell_type": "code",
      "metadata": {
        "id": "n5-ESz0Kh5NR",
        "colab_type": "code",
        "colab": {
          "base_uri": "https://localhost:8080/",
          "height": 151
        },
        "outputId": "0e7e9fe9-52f1-41e4-e870-3dddf5c50e56"
      },
      "source": [
        "# Example - Using statistical method numpy.mean()\n",
        "arr = np.random.randn(5,4)\n",
        "\n",
        "print(arr)\n",
        "print('Mean: {}'.format(arr.mean()))\n",
        "print('Mean: {}'.format(np.mean(arr)))\n",
        "print('Mean of axis 1: {}'.format(arr.mean(axis=1)))"
      ],
      "execution_count": 24,
      "outputs": [
        {
          "output_type": "stream",
          "text": [
            "[[-0.2347077   0.75978853  1.09328467  0.08241857]\n",
            " [ 1.35589336  0.73407911  0.28047259 -1.17244786]\n",
            " [-0.83296783  2.08453612  0.34695123  0.92529696]\n",
            " [ 0.10127975  1.08448718 -0.56609389 -0.39411152]\n",
            " [ 0.71570244 -2.02817432  0.706405   -0.75848116]]\n",
            "Mean: 0.21418056076311592\n",
            "Mean: 0.21418056076311592\n",
            "Mean of axis 1: [ 0.42519602  0.2994993   0.63095412  0.05639038 -0.34113701]\n"
          ],
          "name": "stdout"
        }
      ]
    },
    {
      "cell_type": "markdown",
      "metadata": {
        "id": "VMQBDG0koW50",
        "colab_type": "text"
      },
      "source": [
        "- Basic array statistical methods  \n",
        "\n",
        "| Method | Description |\n",
        "|--------|-------------|\n",
        "| sum | Sum of all the element in the array or along an axis; zero-length arrays have sum 0|\n",
        "| mean | Arithmetic mean; zero-length arrays have NaN mean|\n",
        "| std, var | Standard deviation and variance, respectively, with optional degrees of freedom adjustment (default denominator n) |\n",
        "| min, man | Minimum and maximum |\n",
        "| argmin, argmax | Indices of minimum and maximum elements |\n",
        "| cumsum | cumulative sum of elements starting from 0 |\n",
        "| cumprod | Cumulative product of elemnts starting from 1 |"
      ]
    },
    {
      "cell_type": "markdown",
      "metadata": {
        "id": "YoRX_gY4pgAO",
        "colab_type": "text"
      },
      "source": [
        "### Methods for Boolean Arrays"
      ]
    },
    {
      "cell_type": "markdown",
      "metadata": {
        "id": "W5Qsp_rterhE",
        "colab_type": "text"
      },
      "source": [
        "- Boolean values are coerced to 1 (True) or O (False).\n",
        "- `sum()`can be used to count True/False values\n",
        "- `any()` can be used to test whether one or more values in an array is True\n",
        "- `all()` can be used to check if every value is True"
      ]
    },
    {
      "cell_type": "code",
      "metadata": {
        "id": "P7uvFsvafztS",
        "colab_type": "code",
        "outputId": "bf88c247-f90b-45fc-c85e-19b110d6382a",
        "colab": {
          "base_uri": "https://localhost:8080/",
          "height": 67
        }
      },
      "source": [
        "# Example - Using methods for Boolean Arrays\n",
        "\n",
        "# Using sum() to count True values\n",
        "arr = np.random.randn(100)\n",
        "print('There are {} positivate values.'.format((arr > 0).sum())) \n",
        "\n",
        "\n",
        "# Using any() & all(0)\n",
        "bools = np.array([False, True, True, False])\n",
        "print('Is there any True value? {}'.format('Yes' if bools.any() else 'No'))\n",
        "# True => Yes\n",
        "print('Is all True values? {}'.format('Yes' if bools.all() else 'No'))\n",
        "# False => No"
      ],
      "execution_count": 25,
      "outputs": [
        {
          "output_type": "stream",
          "text": [
            "There are 47 positivate values.\n",
            "Is there any True value? Yes\n",
            "Is all True values? No\n"
          ],
          "name": "stdout"
        }
      ]
    },
    {
      "cell_type": "markdown",
      "metadata": {
        "id": "4Iwl4PdchZ1w",
        "colab_type": "text"
      },
      "source": [
        "### Unique and Other Set Logic"
      ]
    },
    {
      "cell_type": "markdown",
      "metadata": {
        "id": "GR4icHYUBqzK",
        "colab_type": "text"
      },
      "source": [
        "- Array set operations (1D-Array)\n",
        "\n",
        "| Method | Description |\n",
        "|--------|-------------|\n",
        "| unique(x) | Compute the sorted, unique elements in x |\n",
        "| intersect1d(x,y)| Compute the sorted, common elements in x and y |\n",
        "| union1d(x,y) | Compute the sorted union of elements |\n",
        "| in1d(x, y) | Compute a boolean array indicating whether each element of x is contained in y |\n",
        "| setdiff1d(x,y) | Set difference, elemnts in x that are not in y |\n",
        "| setxor1d(x,y) | Set symmetric differences; elements that are in either of the arrays, but not both|"
      ]
    },
    {
      "cell_type": "markdown",
      "metadata": {
        "id": "H1amk8_PDUj5",
        "colab_type": "text"
      },
      "source": [
        "## 4.4 File input and Output with Arrays (skipped)"
      ]
    },
    {
      "cell_type": "markdown",
      "metadata": {
        "id": "AcTZYVo7CYqx",
        "colab_type": "text"
      },
      "source": [
        "## 4.5 Linear Algebra"
      ]
    },
    {
      "cell_type": "markdown",
      "metadata": {
        "id": "3da3WPrKChqU",
        "colab_type": "text"
      },
      "source": [
        "- Commonly used `numpy.linalg` functions\n",
        "\n",
        "| Function | Description |\n",
        "|----------|-------------|\n",
        "| diag | Return the diagonal (or off-diagonal) elements of a square matrix as a 1D array, or convert a 1D array into a square matrix with zeros on the off-diagonal |\n",
        "| dot | Matrix multiplication |\n",
        "| trace | Compute the sum of the diagonal elements |\n",
        "| det | Compute the matrix determinant |\n",
        "| eig | Compute the eigenvalues and eigenvectors of a square matrix |\n",
        "| inv | Compute the inverse of a square matrix |\n",
        "| pinv | Compute the Moore-Penrose pseudo-inverse of a matrix |\n",
        "| qr | Compute the QR decomposition |\n",
        "| svd | Compute the singular value decomposition |\n",
        "| solve | Solve the linear system Ax = b for x, where A is a square matrix|\n",
        "| lstsq | Compute the least-squares solution to Ax = b|"
      ]
    },
    {
      "cell_type": "markdown",
      "metadata": {
        "id": "xUWzpQfuAFO8",
        "colab_type": "text"
      },
      "source": [
        "## 4.6 Pseudorandom Number Generation"
      ]
    },
    {
      "cell_type": "markdown",
      "metadata": {
        "id": "KXSxd515AKK4",
        "colab_type": "text"
      },
      "source": [
        "- Partial list of `numpy.random` functions\n",
        "\n",
        "| Function | Description |\n",
        "|----------|-------------|\n",
        "| seed | Seed the random number generator |\n",
        "| permutation | Return a random permutation of a sequence, or return a permuted range|\n",
        "| suffle | Randomly permute a sequence in-place|\n",
        "| rand | Draw samples from a uniform distribution |\n",
        "| randint | Draw random integers from a given low-to-high range |\n",
        "| randn | Draw samples from a normal distribution with mean 0 and standard deviation 1|\n",
        "| binomial | Draw samples from a binomial distribution|\n",
        "| normal | Draw samples from a normal (Gaussian) distribution |\n",
        "| beta | Draw samples from a beta distribution |\n",
        "| chisquare | Draw samples from a chi-square distribution |\n",
        "| gamma | Draw samples from a gamma distribution |\n",
        "| uniform | Draw samples from a uniform `[ 0 , 1 )` distribution"
      ]
    }
  ]
}