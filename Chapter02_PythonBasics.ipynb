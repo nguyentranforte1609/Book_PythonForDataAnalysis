{
  "nbformat": 4,
  "nbformat_minor": 0,
  "metadata": {
    "colab": {
      "name": "Chapter02_PythonBasics.ipynb",
      "provenance": [],
      "collapsed_sections": []
    },
    "kernelspec": {
      "name": "python3",
      "display_name": "Python 3"
    }
  },
  "cells": [
    {
      "cell_type": "markdown",
      "metadata": {
        "id": "iddCdLwPfZH4",
        "colab_type": "text"
      },
      "source": [
        "## 1. Introspection"
      ]
    },
    {
      "cell_type": "markdown",
      "metadata": {
        "id": "YP97BXfjfgm8",
        "colab_type": "text"
      },
      "source": [
        "Using a question mark **?** before or after a variable will display some general informaiton about the object.\n",
        "\n",
        "This is referred to as ***object introspection***. If the object is a function or instance method,the docstring, if defined, will also be shown."
      ]
    },
    {
      "cell_type": "code",
      "metadata": {
        "id": "Rwxhncr6dqLA",
        "colab_type": "code",
        "colab": {}
      },
      "source": [
        "# Example - Intropecting a variable\n",
        "a = 8\n",
        "a?\n",
        "# Type:        int\n",
        "# String form: 8"
      ],
      "execution_count": 0,
      "outputs": []
    },
    {
      "cell_type": "code",
      "metadata": {
        "id": "hV_o4kWCf---",
        "colab_type": "code",
        "colab": {}
      },
      "source": [
        "# Example - Introspecting a function\n",
        "def foo(x):\n",
        "    \"\"\"This is fuction foo()\"\"\"\n",
        "    return x*2\n",
        "\n",
        "foo?\n",
        "# Signature: foo(x)\n",
        "# Docstring: This is fuction foo()\n",
        "# File:      /content/<ipython-input-22-6224cb6b63dd>\n",
        "# Type:      function"
      ],
      "execution_count": 0,
      "outputs": []
    },
    {
      "cell_type": "code",
      "metadata": {
        "id": "5zMElO8Vgmm0",
        "colab_type": "code",
        "colab": {}
      },
      "source": [
        "#Example - Introspecting a object\n",
        "class Dog():\n",
        "    \"\"\"This is class Dog()\"\"\"\n",
        "    def __init__(self, size):\n",
        "        self.size = size\n",
        "\n",
        "corgi = Dog(50)\n",
        "corgi?\n",
        "# Type:        Dog\n",
        "# String form: <__main__.Dog object at 0x7f39085daa20>\n",
        "# Docstring:   This is class Dog()"
      ],
      "execution_count": 0,
      "outputs": []
    },
    {
      "cell_type": "markdown",
      "metadata": {
        "id": "GMlxW7Vrpcsr",
        "colab_type": "text"
      },
      "source": [
        "Using **??** will also show the source code if possible"
      ]
    },
    {
      "cell_type": "code",
      "metadata": {
        "id": "fsM84uXDpi4f",
        "colab_type": "code",
        "colab": {}
      },
      "source": [
        "#Example - Introspecting a function\n",
        "def foo(x):\n",
        "    \"\"\"This is fuction foo()\"\"\"\n",
        "    return x*2\n",
        "\n",
        "foo??\n",
        "# Signature: foo(x)\n",
        "# Source:   \n",
        "# def foo(x):\n",
        "#     \"\"\"This is fuction foo()\"\"\"\n",
        "#     return x*2\n",
        "# File:      /content/<ipython-input-24-42bfe9587acf>\n",
        "# Type:      function"
      ],
      "execution_count": 0,
      "outputs": []
    },
    {
      "cell_type": "markdown",
      "metadata": {
        "id": "oCpfryrBp2DW",
        "colab_type": "text"
      },
      "source": [
        "## 2. Magic commands"
      ]
    },
    {
      "cell_type": "markdown",
      "metadata": {
        "id": "bZT-97GaqFJb",
        "colab_type": "text"
      },
      "source": [
        "- IPython's special commands are known as \"**magic**\" commands. There are designed to facilitate common tasks and enable you to easily control the behavior of the IPython system.\n",
        "- A magic command is any command prefixed by the symbol **%**"
      ]
    },
    {
      "cell_type": "markdown",
      "metadata": {
        "id": "1IX9nS1iq0oL",
        "colab_type": "text"
      },
      "source": [
        "Some frequently used IPython magic commands\n",
        "\n",
        "| Command | Description |  \n",
        "|---------|-------------|\n",
        "| %quickref | Display the IPython Quick References Card|\n",
        "|%magic |Display detailed documentation for all of the available magic commands|\n",
        "|%debug |Enter the interactive debugger at the bottom of the last exception traceback|\n",
        "|%hist |Print command input (and optionally output) history|\n",
        "|%pdb |Automatically enter debugger after any exception|\n",
        "|%paste |Execute preformatted Python code from clipboard|\n",
        "|%cpaste |Open a special prompt for manually pasting Python code to be executed|\n",
        "|%reset |Delete all variables/names defined in interactive namespace|\n",
        "|%page |OBJECT Pretty-print the object and display it through a pager|\n",
        "|%run |script.py Run a Python script inside IPython|\n",
        "|%prun| statement Execute statement with cProfile and report the profiler output|\n",
        "|%time + statement |Report the execution time of a single statement|\n",
        "|%timeit + statement| Run a statement multiple times to compute an ensemble average execution time; useful for timing code with very short execution time|\n",
        "|%who, %who_ls, %whos| Display variables defined in interactive namespace, with varying levels of information/ verbosity|\n",
        "|%xdel |variable Delete a variable and attempt to clear any references to the object in the IPython internals|"
      ]
    }
  ]
}