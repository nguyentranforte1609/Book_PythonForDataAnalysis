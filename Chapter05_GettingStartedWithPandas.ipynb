{
  "nbformat": 4,
  "nbformat_minor": 0,
  "metadata": {
    "colab": {
      "name": "Chapter05_GettingStartedWithPandas.ipynb",
      "provenance": [],
      "collapsed_sections": [
        "3zJDd4lOy0Xy",
        "tq5a7sTD1O5J",
        "h91fUp7t4aUl",
        "htjp9NFZ4ePh",
        "0YayjeYoHWTs",
        "RxlaIWT2KjVy",
        "BAsiUxjlW2Ti",
        "18uU1-I2SnO7",
        "nHDENQwOz4Ak"
      ]
    },
    "kernelspec": {
      "name": "python3",
      "display_name": "Python 3"
    }
  },
  "cells": [
    {
      "cell_type": "markdown",
      "metadata": {
        "id": "7IpOqTEVyU_v",
        "colab_type": "text"
      },
      "source": [
        "# Chapter 05: Getting Started with pandas"
      ]
    },
    {
      "cell_type": "markdown",
      "metadata": {
        "id": "iEilqtAzyvqA",
        "colab_type": "text"
      },
      "source": [
        "## Initial Setup"
      ]
    },
    {
      "cell_type": "code",
      "metadata": {
        "id": "9WHeAi7ryyXR",
        "colab_type": "code",
        "colab": {}
      },
      "source": [
        "import pandas as pd\n",
        "import numpy as np"
      ],
      "execution_count": 0,
      "outputs": []
    },
    {
      "cell_type": "markdown",
      "metadata": {
        "id": "3zJDd4lOy0Xy",
        "colab_type": "text"
      },
      "source": [
        "## Why `pandas`?"
      ]
    },
    {
      "cell_type": "markdown",
      "metadata": {
        "id": "GTyxUc01zPLP",
        "colab_type": "text"
      },
      "source": [
        "- Contains data structures and data manipulation tools designed to make data cleaning and analysis fast and easy in Python.\n",
        "- Work with tabular or heterogeneous data. (unlike Numpy)\n",
        "- Can be used in tandem with other libraries (Numpy, statsmodel, scikit-learn,etc.)"
      ]
    },
    {
      "cell_type": "markdown",
      "metadata": {
        "id": "tq5a7sTD1O5J",
        "colab_type": "text"
      },
      "source": [
        "## 5.1 Introduction to pandas Data structures"
      ]
    },
    {
      "cell_type": "markdown",
      "metadata": {
        "id": "luBxoBoQ1T1R",
        "colab_type": "text"
      },
      "source": [
        "### Series"
      ]
    },
    {
      "cell_type": "markdown",
      "metadata": {
        "id": "Vox-9SzM1Wsd",
        "colab_type": "text"
      },
      "source": [
        "- A Series is a one-dimensional array-like object containing a sequence of values and an associated array of data labels, called its *index*\n",
        "- Another way to think about a Series is as a fixed-length, ordered dictionary, as it is a mapping of index values to data values."
      ]
    },
    {
      "cell_type": "code",
      "metadata": {
        "id": "jXqEKO9f5Yoh",
        "colab_type": "code",
        "colab": {}
      },
      "source": [
        "# Example - Create a series with default index\n",
        "obj = pd.Series([-3,7,8,2])\n",
        "print(obj)\n",
        "# 0   -3\n",
        "# 1    7\n",
        "# 2    8\n",
        "# 3    2\n",
        "# dtype: int64"
      ],
      "execution_count": 0,
      "outputs": []
    },
    {
      "cell_type": "code",
      "metadata": {
        "id": "3ykjcam_7ULl",
        "colab_type": "code",
        "colab": {}
      },
      "source": [
        "# Example - Create a series with user-defined index\n",
        "obj = pd.Series([3,4,5,6], index=['a','z','f','e'])\n",
        "print(obj)\n",
        "# a    3\n",
        "# z    4\n",
        "# f    5\n",
        "# e    6\n",
        "# dtype: int64"
      ],
      "execution_count": 0,
      "outputs": []
    },
    {
      "cell_type": "code",
      "metadata": {
        "id": "aLSCbTaLGNIi",
        "colab_type": "code",
        "colab": {}
      },
      "source": [
        "# Example - Create a series with dictionary\n",
        "prices = {'Keyboard': 500, 'Mouse': 100, 'Laptop': 2000, 'Speaker': 750}\n",
        "obj = pd.Series(prices)\n",
        "print(obj)\n",
        "# Keyboard     500\n",
        "# Mouse        100\n",
        "# Laptop      2000\n",
        "# Speaker      750\n",
        "# dtype: int64"
      ],
      "execution_count": 0,
      "outputs": []
    },
    {
      "cell_type": "code",
      "metadata": {
        "id": "oj01OM_pGp0t",
        "colab_type": "code",
        "colab": {}
      },
      "source": [
        "# Example - Create a series with dictionary and override keys order\n",
        "prices = {'Keyboard': 500, 'Mouse': 100, 'Laptop': 2000, 'Speaker': 750}\n",
        "products = ['Laptop', 'Keyboard', 'Mouse', 'Headphone']\n",
        "obj = pd.Series(prices, index=products)\n",
        "print(obj)\n",
        "# Laptop       2000.0\n",
        "# Keyboard      500.0\n",
        "# Mouse         100.0\n",
        "# Headphone       NaN\n",
        "# dtype: float64"
      ],
      "execution_count": 0,
      "outputs": []
    },
    {
      "cell_type": "markdown",
      "metadata": {
        "id": "MiQ7NRNBHYDn",
        "colab_type": "text"
      },
      "source": [
        "- Pandas uses `NaN` (Not a Number) to mark missing or not available values.\n",
        "- Using `isnull`, `notnull` to check missing data."
      ]
    },
    {
      "cell_type": "code",
      "metadata": {
        "id": "LjVWZEXLHybG",
        "colab_type": "code",
        "colab": {}
      },
      "source": [
        "#Example - Using isnull, notnull to check missing data\n",
        "prices = {'Keyboard': 500, 'Mouse': 100, 'Laptop': 2000, 'Speaker': 750}\n",
        "products = ['Laptop', 'Keyboard', 'Mouse', 'Headphone']\n",
        "obj = pd.Series(prices, index=products)\n",
        "print(obj.isnull(), end='\\n\\n')\n",
        "# Laptop       False\n",
        "# Keyboard     False\n",
        "# Mouse        False\n",
        "# Headphone     True\n",
        "# dtype: bool\n",
        "\n",
        "print(obj.notnull())\n",
        "# Laptop        True\n",
        "# Keyboard      True\n",
        "# Mouse         True\n",
        "# Headphone    False\n",
        "# dtype: bool"
      ],
      "execution_count": 0,
      "outputs": []
    },
    {
      "cell_type": "markdown",
      "metadata": {
        "id": "5fTTdp1hYOpr",
        "colab_type": "text"
      },
      "source": [
        "### DataFrame\n"
      ]
    },
    {
      "cell_type": "markdown",
      "metadata": {
        "id": "nkKDE2-6YSFg",
        "colab_type": "text"
      },
      "source": [
        "- A DataFrame represents a rectangular table of data and contains an ordered collection of columns, each of which can be a different value type (numeric, string, boolean, etc.).\n",
        "- The DataFrame has both a row and column index, it can be thought of as a dictionary of Series all sharing the same index.\n",
        "- While a DataFrame is physically two-dimensional, you can use it to represent higher dimensional data in a tabular format using hierarchical indexing."
      ]
    },
    {
      "cell_type": "code",
      "metadata": {
        "id": "7On-tOkZdTbI",
        "colab_type": "code",
        "colab": {}
      },
      "source": [
        "# Example - Create a simple DataFrame \n",
        "# using a dictionary of equal-lengh list of Numpy array\n",
        "\n",
        "data = {\n",
        "    'product': ['Laptop', 'Mouse', 'Keyboard', 'Headset', 'Webcam'],\n",
        "    'price': [1500, 200, 400, 600, 200],\n",
        "    'brand': ['Asus', 'Logitech','Logitect','SteelSeries', 'Bluelover']\n",
        "}\n",
        "frame = pd.DataFrame(data)\n",
        "print(frame)\n",
        "#     product  price        brand\n",
        "# 0    Laptop   1500         Asus\n",
        "# 1     Mouse    200     Logitech\n",
        "# 2  Keyboard    400     Logitect\n",
        "# 3   Headset    600  SteelSeries\n",
        "# 4    Webcam    200    Bluelover"
      ],
      "execution_count": 0,
      "outputs": []
    },
    {
      "cell_type": "markdown",
      "metadata": {
        "id": "9hICrqo7fzGt",
        "colab_type": "text"
      },
      "source": [
        "- The resulting DataFrame will have its index assigned automatically as with Series, and the columns are placed in sorted order\n",
        "- Missing values will be present as NaN in DataFrame.\n",
        "- A columnin a DataFrame can be retrieved as a Series either by dict-like notation or by attribute"
      ]
    },
    {
      "cell_type": "code",
      "metadata": {
        "id": "-KUMsCL4gcLl",
        "colab_type": "code",
        "colab": {}
      },
      "source": [
        "# Example - Get data from column in DataFrame\n",
        "data = {\n",
        "    'product': ['Laptop', 'Mouse', 'Keyboard', 'Headset', 'Webcam'],\n",
        "    'price': [1500, 200, 400, 600, 200],\n",
        "    'brand': ['Asus', 'Logitech','Logitect','SteelSeries', 'Bluelover']\n",
        "}\n",
        "frame = pd.DataFrame(data)\n",
        "\n",
        "# Using dict-like notation\n",
        "print(frame['product'])\n",
        "# 0      Laptop\n",
        "# 1       Mouse\n",
        "# 2    Keyboard\n",
        "# 3     Headset\n",
        "# 4      Webcam\n",
        "# Name: product, dtype: object\n",
        "\n",
        "# Using attribute dot notation\n",
        "print(frame.brand)\n",
        "# 0           Asus\n",
        "# 1       Logitech\n",
        "# 2       Logitect\n",
        "# 3    SteelSeries\n",
        "# 4      Bluelover\n",
        "# Name: brand, dtype: object"
      ],
      "execution_count": 0,
      "outputs": []
    },
    {
      "cell_type": "markdown",
      "metadata": {
        "id": "8GL2Ee_shc80",
        "colab_type": "text"
      },
      "source": [
        "- Rows can be retrieved by position or name with the special `loc` attribute"
      ]
    },
    {
      "cell_type": "code",
      "metadata": {
        "colab_type": "code",
        "id": "XiKtpcn-hwKW",
        "colab": {}
      },
      "source": [
        "# Example - Get data from row in DataFrame using index\n",
        "data = {\n",
        "    'product': ['Laptop', 'Mouse', 'Keyboard', 'Headset', 'Webcam'],\n",
        "    'price': [1500, 200, 400, 600, 200],\n",
        "    'brand': ['Asus', 'Logitech','Logitect','SteelSeries', 'Bluelover']\n",
        "}\n",
        "frame = pd.DataFrame(data)\n",
        "\n",
        "print(frame.loc[1])\n",
        "# product       Mouse\n",
        "# price           200\n",
        "# brand      Logitech\n",
        "# Name: 1, dtype: object"
      ],
      "execution_count": 0,
      "outputs": []
    },
    {
      "cell_type": "markdown",
      "metadata": {
        "id": "D0Nl3vnxyTdp",
        "colab_type": "text"
      },
      "source": [
        "- If you assign a **lists or arrays** to a column, the value's length must match the length of the DataFrame.\n",
        "- If you assign a **Series** to a column, it's labels will be realigned exactly to the DataFrame's index, inserting missing values in any holes."
      ]
    },
    {
      "cell_type": "code",
      "metadata": {
        "id": "AFbjnJYgyzhv",
        "colab_type": "code",
        "colab": {}
      },
      "source": [
        "# Example - Assign a Series to a column in DataFrame\n",
        "data = {\n",
        "    'product': ['Laptop', 'Mouse', 'Keyboard', 'Headset', 'Webcam'],\n",
        "    'price': [1500, 200, 400, 600, 200],\n",
        "    'brand': ['Asus', 'Logitech','Logitect','SteelSeries', 'Bluelover']\n",
        "}\n",
        "frame = pd.DataFrame(data, columns=['product', 'price', 'brand', 'available'])\n",
        "availableValues = pd.Series([True, False, True], index=[1,2,4])\n",
        "\n",
        "frame['available'] = availableValues\n",
        "print(frame)\n",
        "#     product  price        brand available\n",
        "# 0    Laptop   1500         Asus       NaN\n",
        "# 1     Mouse    200     Logitech      True\n",
        "# 2  Keyboard    400     Logitect     False\n",
        "# 3   Headset    600  SteelSeries       NaN\n",
        "# 4    Webcam    200    Bluelover      True"
      ],
      "execution_count": 0,
      "outputs": []
    },
    {
      "cell_type": "code",
      "metadata": {
        "id": "w9B5Aealwu2K",
        "colab_type": "code",
        "colab": {}
      },
      "source": [
        "# Example - Create new column in DataFrame using data within\n",
        "data = {\n",
        "    'product': ['Laptop', 'Mouse', 'Keyboard', 'Headset', 'Webcam'],\n",
        "    'price': [1500, 200, 400, 600, 200],\n",
        "    'brand': ['Asus', 'Logitech','Logitect','SteelSeries', 'Bluelover']\n",
        "}\n",
        "frame = pd.DataFrame(data, columns=['product', 'price', 'brand', 'available'])\n",
        "\n",
        "frame['isTrustedBrand'] = frame.brand != 'Bluelover'\n",
        "print(frame)\n",
        "#     product  price        brand available  isTrustedBrand\n",
        "# 0    Laptop   1500         Asus       NaN            True\n",
        "# 1     Mouse    200     Logitech       NaN            True\n",
        "# 2  Keyboard    400     Logitect       NaN            True\n",
        "# 3   Headset    600  SteelSeries       NaN            True\n",
        "# 4    Webcam    200    Bluelover       NaN           False"
      ],
      "execution_count": 0,
      "outputs": []
    },
    {
      "cell_type": "markdown",
      "metadata": {
        "id": "UsU4uAXtxjlv",
        "colab_type": "text"
      },
      "source": [
        "<h3><b>IMPORTANT NOTE</b></h3>\n",
        "\n",
        "> The column returned from indexing a DataFrame is a **view** on the underlying data, **not a copy**. Thus, any in-place modification to the Series will be reflected in the DataFrame."
      ]
    },
    {
      "cell_type": "code",
      "metadata": {
        "id": "Hp6HR2U7x3Qh",
        "colab_type": "code",
        "colab": {}
      },
      "source": [
        "# Example - Create new DataFrame with nested Dictionary \n",
        "# and Display transposed DataFrame using .T notation\n",
        "data = {\n",
        "    'Logitech': {'Mouse': 400, 'Keyboard': 600},\n",
        "    'SteelSeries': {'Headset': 700,'Keyboard': 800}\n",
        "}\n",
        "\n",
        "frame = pd.DataFrame(data)\n",
        "print(frame, end='\\n\\n')\n",
        "#           Logitech  SteelSeries\n",
        "# Headset        NaN        700.0\n",
        "# Keyboard     600.0        800.0\n",
        "# Mouse        400.0          NaN\n",
        "\n",
        "print(frame.T)\n",
        "# Headset  Keyboard  Mouse\n",
        "# Logitech         NaN     600.0  400.0\n",
        "# SteelSeries    700.0     800.0    NaN"
      ],
      "execution_count": 0,
      "outputs": []
    },
    {
      "cell_type": "markdown",
      "metadata": {
        "id": "Y-3KJZuz1EIX",
        "colab_type": "text"
      },
      "source": [
        ""
      ]
    },
    {
      "cell_type": "markdown",
      "metadata": {
        "id": "Gxet3vULzmOs",
        "colab_type": "text"
      },
      "source": [
        "- The `values` attribute returns the data contained in the DataFrame as a two-dimensional arrays.\n",
        "- If the DataFrame's are different `dtypes`, the `dtype` of the values array will be chosen to accommodate all of the columns."
      ]
    },
    {
      "cell_type": "markdown",
      "metadata": {
        "id": "jPYsmyc70KgJ",
        "colab_type": "text"
      },
      "source": [
        "- Possible data inputs to DataFrame Constructor\n",
        "\n",
        "| Type | Notes |\n",
        "|------|-------|\n",
        "| 2D ndarray | A matrix of data, passing optional row & column labels|\n",
        "| dict of arrays, lists or tuples | Each sequence becomes a column in the DataFrame, all sequences must be the same length|\n",
        "| NumPy structured/record array | Treated as the \"dict of arrays\" case |\n",
        "| dict of Series | Each value becomes a column, indexes from each Series are unioned together to form the result's row index if no explicit index is passed |\n",
        "| dict of dicts | Each inner dict becomes a column, keys are unioned to form the row index as in the \"dict of Series\" case |\n",
        "| List of dict or Series| Each item becomes a row in the DataFrame, union of dict keys or Series indexes become the DataFrame's column labels |\n",
        "| List of list or tuples | Treated as the \"2D ndarry\" case|\n",
        "| Another DataFrame | The DataFrame's indexes are used unless different ones are passed |\n",
        "| NumPy MaskedArray | Like the \"2D ndarry\" case except masked values become NA/missing in the DataFrame result|"
      ]
    },
    {
      "cell_type": "markdown",
      "metadata": {
        "id": "qtjt7DY01m-f",
        "colab_type": "text"
      },
      "source": [
        "### Index Objects"
      ]
    },
    {
      "cell_type": "markdown",
      "metadata": {
        "id": "VgyFNn0D1rYi",
        "colab_type": "text"
      },
      "source": [
        "- **pandas**'s Index objects are responsible for holding the axis label and other metadata\n",
        "- Index object are **immutable** and thus can't be modified by the user\n",
        "- `pandas` Index can contain duplicate labels. Selections with duplicate labels will select all occurences of that label"
      ]
    },
    {
      "cell_type": "markdown",
      "metadata": {
        "id": "xO2iDegr3WPU",
        "colab_type": "text"
      },
      "source": [
        "- Some Index methods and properties\n",
        "\n",
        "| Method | Description |\n",
        "|--------|-------------|\n",
        "| append | Concatenate with additional Index objects, producing a new Index |\n",
        "| difference | Compute set of differences as an Index |\n",
        "| intersection | Compute set intersection |\n",
        "| union | Compute set union |\n",
        "| isin | Compute boolean array indicating whether each value is contained in the passe collection |\n",
        "| delete | Compute new Index with element at index i deleted |\n",
        "| drop | Compute new Index by deleteing passed values |\n",
        "| insert | Compute new Index by inserting element at Index i |\n",
        "| is_monotonic | Return `True` if each element is greater than or equal to the previous element |\n",
        "| is_unique | Return `True` if the Index has no duplicate values |\n",
        "| unique | Compute the array of unique values in the Index |"
      ]
    },
    {
      "cell_type": "markdown",
      "metadata": {
        "id": "h91fUp7t4aUl",
        "colab_type": "text"
      },
      "source": [
        "## 5.2 Essential Functionality"
      ]
    },
    {
      "cell_type": "markdown",
      "metadata": {
        "id": "htjp9NFZ4ePh",
        "colab_type": "text"
      },
      "source": [
        "### Reindexing"
      ]
    },
    {
      "cell_type": "markdown",
      "metadata": {
        "id": "0GOOPigw-oPN",
        "colab_type": "text"
      },
      "source": [
        "- Reindexing is to create a new object with the data **comformed** to a new index\n",
        "- Calling `reindex` on Series rearranges the data according to the new index, introducing missing values if any index values were not already present"
      ]
    },
    {
      "cell_type": "code",
      "metadata": {
        "id": "tvnNFJ4l-1Zp",
        "colab_type": "code",
        "colab": {}
      },
      "source": [
        "# Example - Reindexing an series\n",
        "obj = pd.Series([3.5, 7.8, 8.9, -1.2], index=['d','a','e','h'])\n",
        "print(obj, end='\\n\\n')\n",
        "# d    3.5\n",
        "# a    7.8\n",
        "# e    8.9\n",
        "# h   -1.2\n",
        "# dtype: float64\n",
        "\n",
        "obj2 = obj.reindex(['a','b','c','d','e'])\n",
        "print(obj2)\n",
        "# a    7.8\n",
        "# b    NaN\n",
        "# c    NaN\n",
        "# d    3.5\n",
        "# e    8.9\n",
        "# dtype: float64"
      ],
      "execution_count": 0,
      "outputs": []
    },
    {
      "cell_type": "markdown",
      "metadata": {
        "id": "COF64DktIkYV",
        "colab_type": "text"
      },
      "source": [
        "- During reindexing, we are able to do some interpolation or filling of values."
      ]
    },
    {
      "cell_type": "code",
      "metadata": {
        "id": "vMCnNswtBb5B",
        "colab_type": "code",
        "colab": {}
      },
      "source": [
        "# Example - Forward fill values during reindexing\n",
        "obj = pd.Series(['Product 01', 'Product 02', 'Product 03'], index=[0,2,4])\n",
        "print(obj, end='\\n\\n')\n",
        "# 0    Product 01\n",
        "# 2    Product 02\n",
        "# 4    Product 03\n",
        "# dtype: object\n",
        "\n",
        "obj2 = obj.reindex(range(6), method='ffill')\n",
        "print(obj2)\n",
        "# 0    Product 01\n",
        "# 1    Product 01\n",
        "# 2    Product 02\n",
        "# 3    Product 02\n",
        "# 4    Product 03\n",
        "# 5    Product 03\n",
        "# dtype: object"
      ],
      "execution_count": 0,
      "outputs": []
    },
    {
      "cell_type": "markdown",
      "metadata": {
        "id": "15bVbqSeIpje",
        "colab_type": "text"
      },
      "source": [
        "- With DataFrame, `reindex` can alter either the row inedx, columns, or both. **By default**, passing a sequence will reindex only the rows in the result."
      ]
    },
    {
      "cell_type": "code",
      "metadata": {
        "id": "4_Ffeu_jDcjL",
        "colab_type": "code",
        "colab": {}
      },
      "source": [
        "# Example - Reindex rows, columns in DataFrame\n",
        "frame = pd.DataFrame(\n",
        "    np.arange(9).reshape((3,3)),\n",
        "    index=['a','b','c'],\n",
        "    columns=['Product 01', 'Product 02', 'Product 03']\n",
        ")\n",
        "\n",
        "# Reindex rows\n",
        "frame2 = frame.reindex(['a','b','c','d'])\n",
        "print(frame2, end='\\n\\n')\n",
        "#    Product 01  Product 02  Product 03\n",
        "# a         0.0         1.0         2.0\n",
        "# b         3.0         4.0         5.0\n",
        "# c         6.0         7.0         8.0\n",
        "# d         NaN         NaN         NaN\n",
        "\n",
        "\n",
        "# Reindex columns\n",
        "newProductIndexList = ['Product 01', 'New Product', 'Product 02']\n",
        "frame3 = frame.reindex(columns = newProductIndexList)\n",
        "print(frame3, end='\\n\\n')\n",
        "#    Product 01  New Product  Product 02\n",
        "# a           0          NaN           1\n",
        "# b           3          NaN           4\n",
        "# c           6          NaN           7\n",
        "\n",
        "\n",
        "# Reindex columns and rwos\n",
        "frame4 = frame.loc[['a','b','c','d'], newProductIndexList]\n",
        "print(frame4)\n",
        "#    Product 01  New Product  Product 02\n",
        "# a         0.0          NaN         1.0\n",
        "# b         3.0          NaN         4.0\n",
        "# c         6.0          NaN         7.0\n",
        "# d         NaN          NaN         NaN"
      ],
      "execution_count": 0,
      "outputs": []
    },
    {
      "cell_type": "markdown",
      "metadata": {
        "id": "6aiIXeeTGIOH",
        "colab_type": "text"
      },
      "source": [
        "- `reindex` function arguments\n",
        "\n",
        "| Argument | Description |\n",
        "|----------|-------------|\n",
        "| index | New sequence to use as index. Can be index instance or any other sequence-like Python data structure. An Index will be used exactly as is without any copying |\n",
        "| method | Interpolation (fill) method, 'ffill' fills forward, while 'bfill' fill backward |\n",
        "| fill_value | Substitute value to use when introducing missing data by reindexing |\n",
        "| limit | When forward-or backfilling, maximum size gap (in number of elements) to fill |\n",
        "| tolerance | When forward-or backfilling, maximum size gap (in absolute numeric distance) to fill for inexact matches|\n",
        "| level | Match simple index on level of Multiindex, otherwise select subset of|\n",
        "| copy | If `True`, always copy underlying data even if new index is equivalent to old index, if `False`, do not copy the data when the indexes are equivalent |"
      ]
    },
    {
      "cell_type": "markdown",
      "metadata": {
        "id": "0YayjeYoHWTs",
        "colab_type": "text"
      },
      "source": [
        "### Dropping Entries from an Axis"
      ]
    },
    {
      "cell_type": "markdown",
      "metadata": {
        "id": "Sw1OeKqHHYf9",
        "colab_type": "text"
      },
      "source": [
        "- Dropping one or more entries from an axis if you already have an index array of list without those entries."
      ]
    },
    {
      "cell_type": "code",
      "metadata": {
        "id": "K7TxqH-5Hlhj",
        "colab_type": "code",
        "colab": {}
      },
      "source": [
        "# Example - Drop entries in Series\n",
        "obj = pd.Series(np.arange(4.), index=['a','b','c','d'])\n",
        "print(obj, end='\\n\\n')\n",
        "# a    0.0\n",
        "# b    1.0\n",
        "# c    2.0\n",
        "# d    3.0\n",
        "# dtype: float64\n",
        "\n",
        "newObj = obj.drop(['b','c'])\n",
        "print(newObj)\n",
        "# a    0.0\n",
        "# d    3.0\n",
        "# dtype: float64"
      ],
      "execution_count": 0,
      "outputs": []
    },
    {
      "cell_type": "markdown",
      "metadata": {
        "id": "iW0qSX75Ir6e",
        "colab_type": "text"
      },
      "source": [
        "- With DataFrame, index values can be deleted from eiter axis"
      ]
    },
    {
      "cell_type": "code",
      "metadata": {
        "id": "repXI_gxI-Tu",
        "colab_type": "code",
        "colab": {}
      },
      "source": [
        "# Example - Drop rows, columns in DataFrame\n",
        "frame = pd.DataFrame(\n",
        "    np.arange(16).reshape((4,4)),\n",
        "    index=['Product 01', 'Product 02', 'Product 03', 'Product 04'],\n",
        "    columns = ['one', 'two', 'three', 'four']\n",
        ")\n",
        "\n",
        "# Drop rows\n",
        "print(\n",
        "    frame.drop(['Product 03']),\n",
        "    end='\\n\\n'\n",
        ")\n",
        "#             one  two  three  four\n",
        "# Product 01    0    1      2     3\n",
        "# Product 02    4    5      6     7\n",
        "# Product 04   12   13     14    15\n",
        "\n",
        "# Drop columns\n",
        "print(\n",
        "    frame.drop(['one','three'], axis='columns') # axis = 'columns' <=> axis = 1\n",
        ")\n",
        "#             two  four\n",
        "# Product 01    1     3\n",
        "# Product 02    5     7\n",
        "# Product 03    9    11\n",
        "# Product 04   13    15"
      ],
      "execution_count": 0,
      "outputs": []
    },
    {
      "cell_type": "markdown",
      "metadata": {
        "id": "RxlaIWT2KjVy",
        "colab_type": "text"
      },
      "source": [
        "### Indexing, Selection, and Filtering"
      ]
    },
    {
      "cell_type": "markdown",
      "metadata": {
        "id": "nIKlhpJWKnh9",
        "colab_type": "text"
      },
      "source": [
        "<h3><b>IMPORTANT NOTE:</h3></b>\n",
        "\n",
        "> Slicing with  labels in Series **behaves differently** than normal Python slicing in that the end-point inclusive"
      ]
    },
    {
      "cell_type": "code",
      "metadata": {
        "id": "X5jQqPtBLpri",
        "colab_type": "code",
        "colab": {}
      },
      "source": [
        "# Example - Slicing with labels vs Slicing in normal Python\n",
        "obj = pd.Series(\n",
        "    np.arange(5),\n",
        "    index=['a','b','c','d','e']\n",
        ")\n",
        "\n",
        "# Slicing with labels\n",
        "print(\n",
        "    obj['b':'d'],\n",
        "    end='\\n\\n'\n",
        ")\n",
        "# b    1\n",
        "# c    2\n",
        "# d    3\n",
        "# dtype: int64\n",
        "\n",
        "# Slicing in normal Python\n",
        "print(\n",
        "    obj[1:3] # index of 'b' = 1 and 'd' = 3\n",
        ")\n",
        "# b    1\n",
        "# c    2\n",
        "# dtype: int64"
      ],
      "execution_count": 0,
      "outputs": []
    },
    {
      "cell_type": "markdown",
      "metadata": {
        "id": "9INdRtPeNYDr",
        "colab_type": "text"
      },
      "source": [
        "- Boolean DataFrame can be used in indexing"
      ]
    },
    {
      "cell_type": "code",
      "metadata": {
        "id": "GAUGJfj8NhNo",
        "colab_type": "code",
        "colab": {}
      },
      "source": [
        "# Example - Indexing using boolean DataFrame\n",
        "frame = pd.DataFrame(\n",
        "    np.arange(16).reshape((4,4)),\n",
        "    index=['Product 01','Product 02','Product 03','Product 04'],\n",
        "    columns=['one','two','three','four']\n",
        ")\n",
        "\n",
        "frame[frame < 5] = 0 # Set all values, which are slower than 5, to 0\n",
        "\n",
        "print(frame)\n",
        "#             one  two  three  four\n",
        "# Product 01    0    0      0     0\n",
        "# Product 02    0    5      6     7\n",
        "# Product 03    8    9     10    11\n",
        "# Product 04   12   13     14    15"
      ],
      "execution_count": 0,
      "outputs": []
    },
    {
      "cell_type": "markdown",
      "metadata": {
        "id": "txhkzRYEOkbV",
        "colab_type": "text"
      },
      "source": [
        "- Using either axis labels (`loc`) or intergers (`iloc`) allows us to select a subset of the rows and columns from a DataFrame with NumPy-like notation."
      ]
    },
    {
      "cell_type": "code",
      "metadata": {
        "id": "BGQw96szPm4R",
        "colab_type": "code",
        "colab": {}
      },
      "source": [
        "# Example - Using loc & iloc\n",
        "frame = pd.DataFrame(\n",
        "    np.arange(16).reshape((4,4)),\n",
        "    index=['Product 01','Product 02','Product 03','Product 04'],\n",
        "    columns=['one','two','three','four']\n",
        ")\n",
        "\n",
        "print(\n",
        "    frame.loc['Product 03', ['two', 'four']],\n",
        "    end='\\n\\n'\n",
        ")\n",
        "# two      9\n",
        "# four    11\n",
        "# Name: Product 03, dtype: int64\n",
        "\n",
        "print(\n",
        "    frame.iloc[[1,2], [3,0,1]],\n",
        "    end='\\n\\n'\n",
        ")\n",
        "#             four  one  two\n",
        "# Product 02     7    4    5\n",
        "# Product 03    11    8    9\n",
        "\n",
        "print(\n",
        "    frame.loc[:'Product 02', 'two'],\n",
        "    end='\\n\\n'\n",
        ")\n",
        "# Product 01    1\n",
        "# Product 02    5\n",
        "# Name: two, dtype: int64\n",
        "\n",
        "print(\n",
        "    frame.iloc[:, :4][frame.two > 5]\n",
        ")\n",
        "#             one  two  three  four\n",
        "# Product 03    8    9     10    11\n",
        "# Product 04   12   13     14    15"
      ],
      "execution_count": 0,
      "outputs": []
    },
    {
      "cell_type": "markdown",
      "metadata": {
        "id": "wTRp864GQjgB",
        "colab_type": "text"
      },
      "source": [
        "- Indexing options with DataFrame\n",
        "\n",
        "| Type | Notes |\n",
        "|------|-------|\n",
        "| df[val] | Select single column or sequence of columns from the DataFrame; special case conveniences; boolean array (filter rows), slice (slice rows), or boolean DataFrame (set values based on some criterion)|\n",
        "| df.loc[val] | Select single row or subset of rows from the DataFrame by label|\n",
        "| df.loc[:, val] | Select single column or subset of columns by label |\n",
        "| df.iloc[where] | Select single row or subset of rows from the DataFrame by integer position |\n",
        "| df.iloc[:, where] | Select single column or subsest of columns by integer position |\n",
        "| df.iloc[where_i, where_j] | Select both rows and columns by integer position |\n",
        "| df.at[label_i, label_j] | Select a single scalar value by row and column label |\n",
        "| df.iat[i,j] | Select a single scalar value by row and column position (integers) |\n",
        "| `reindex` method | Select either rows or columns by labels |\n",
        "| `get_values`, `set_values` methods | Select single value by row and column label|"
      ]
    },
    {
      "cell_type": "markdown",
      "metadata": {
        "id": "BAsiUxjlW2Ti",
        "colab_type": "text"
      },
      "source": [
        "### Interger Indexes"
      ]
    },
    {
      "cell_type": "markdown",
      "metadata": {
        "id": "WzZsAnQFXEok",
        "colab_type": "text"
      },
      "source": [
        "- Working with `pandas` objects indexed by integers is different from using indexes of build-int Python data structures.\n",
        "- To keep thing consistent:\n",
        "    - **Using `loc` for labels index**\n",
        "    - **Using `iloc` for integers index**"
      ]
    },
    {
      "cell_type": "code",
      "metadata": {
        "id": "-pB4Mk-OYMpf",
        "colab_type": "code",
        "colab": {}
      },
      "source": [
        "# Example - Error while trying to access element at \"-1\"\n",
        "example01 = pd.Series(np.arange(3.), index=['a','b','c'])\n",
        "print(example01)\n",
        "print('Element at index -1 = {}'.format(example01[-1]), end='\\n\\n') # No error\n",
        "# a    0.0\n",
        "# b    1.0\n",
        "# c    2.0\n",
        "# dtype: float64\n",
        "# Element at index -1 = 2.0\n",
        "\n",
        "example02 = pd.Series(np.arange(3.))\n",
        "try:\n",
        "    print(example02)\n",
        "    print('Element at index -1 = {}'.format(example02[-1]), end='\\n\\n') # Error\n",
        "except:\n",
        "    print(\"Can't get element at index -1\")\n",
        "# 0    0.0\n",
        "# 1    1.0\n",
        "# 2    2.0\n",
        "# dtype: float64\n",
        "# Can't get element at index -1"
      ],
      "execution_count": 0,
      "outputs": []
    },
    {
      "cell_type": "markdown",
      "metadata": {
        "id": "18uU1-I2SnO7",
        "colab_type": "text"
      },
      "source": [
        "### Arithmetic & Data Alignment"
      ]
    },
    {
      "cell_type": "markdown",
      "metadata": {
        "id": "YVNZrVvdaGmJ",
        "colab_type": "text"
      },
      "source": [
        "- When adding together objects, if any index pairs are not the same, the respective index in the result will be the union of the index pairs.\n",
        "- This is similar to `OUTER JOIN`"
      ]
    },
    {
      "cell_type": "code",
      "metadata": {
        "id": "0FQzLrMzafp_",
        "colab_type": "code",
        "colab": {}
      },
      "source": [
        "#Example - Joining two Series, each one has few different indexes from the other.\n",
        "series01 = pd.Series(np.arange(4), index=list('ABCD'))\n",
        "series02 = pd.Series(np.arange(5, 9), index=list('ACEF'))\n",
        "\n",
        "print(series01 + series02)\n",
        "# a    5.0\n",
        "# b    NaN\n",
        "# c    9.0\n",
        "# d    NaN\n",
        "# e    NaN\n",
        "# f    NaN\n",
        "# dtype: float64"
      ],
      "execution_count": 0,
      "outputs": []
    },
    {
      "cell_type": "code",
      "metadata": {
        "id": "JU3IAshZbN5S",
        "colab_type": "code",
        "colab": {}
      },
      "source": [
        "#Example - Joining two DataFrame, each one has few different rows and columns from the other.\n",
        "df01 = pd.DataFrame(\n",
        "    np.arange(9).reshape((3,3)), \n",
        "    columns=list('ABC'),\n",
        "    index=list('DEF')\n",
        ")\n",
        "\n",
        "df02 = pd.DataFrame(\n",
        "    np.arange(12).reshape((4,3)), \n",
        "    columns=list('ACE'),\n",
        "    index=list('CDEF')\n",
        ")\n",
        "\n",
        "print(df01+df02)\n",
        "#       A   B     C   E\n",
        "# C   NaN NaN   NaN NaN\n",
        "# D   3.0 NaN   6.0 NaN\n",
        "# E   9.0 NaN  12.0 NaN\n",
        "# F  15.0 NaN  18.0 NaN"
      ],
      "execution_count": 0,
      "outputs": []
    },
    {
      "cell_type": "markdown",
      "metadata": {
        "id": "fq3pvzzA7_Ej",
        "colab_type": "text"
      },
      "source": [
        "- Flexible arithmetic methods (NOTE: prefix 'r-' stand for reverse)\n",
        "\n",
        "| Method | Description |\n",
        "|--------|-------------|\n",
        "|add, radd | Methods for addition +|\n",
        "|sub, rsub | Methods for subtraction - |\n",
        "|div, rdiv | Methods for division / |\n",
        "|floordiv, rfloordiv | Methods for floor division //|\n",
        "|mul, rmul | Methods for multiplication *|\n",
        "|pow, rpow | Methods for exponentiation **|"
      ]
    },
    {
      "cell_type": "markdown",
      "metadata": {
        "id": "sTIpZ3Eit4rd",
        "colab_type": "text"
      },
      "source": [
        "- **Operations between DataFrame and Series**\n",
        "    - By default, arithmetic between DataFrame and Series matches the index of the Series on the DataFrame's columns, broadcasting down the rows.\n",
        "    - If an index is not found in either the DataFrame's columns r the Series's index, the object will be reindexed to form the union\n",
        "    - Use arithmetic methods with specifix axis to broadcast over the columns, matching on the rows"
      ]
    },
    {
      "cell_type": "code",
      "metadata": {
        "id": "ihDSUg-Zu6Md",
        "colab_type": "code",
        "colab": {}
      },
      "source": [
        "# Example - Operation between DataFrame and Series\n",
        "# Dataframe - Series\n",
        "df = pd.DataFrame(\n",
        "    np.arange(12).reshape((4,3)),\n",
        "    columns=list('XYZ'),\n",
        "    index=list('ABCD')\n",
        ")\n",
        "s1 = df.iloc[0]\n",
        "\n",
        "print(df - s1, end='\\n\\n')\n",
        "#    a  b  c\n",
        "# A  0  0  0\n",
        "# B  3  3  3\n",
        "# C  6  6  6\n",
        "# D  9  9  9\n",
        "\n",
        "\n",
        "# DataFrame + Series with different index => Automatic Reindex\n",
        "s2 = pd.Series(np.arange(3), index=list('XWY'))\n",
        "print(df+s2, end='\\n\\n')\n",
        "#     W    X     Y   Z\n",
        "# A NaN  0.0   3.0 NaN\n",
        "# B NaN  3.0   6.0 NaN\n",
        "# C NaN  6.0   9.0 NaN\n",
        "# D NaN  9.0  12.0 NaN\n",
        "\n",
        "\n",
        "# DataFrame + Series and broadcast change over the columns\n",
        "s3 = df['Y']\n",
        "print(df.add(s3, axis='index'))\n",
        "#     X   Y   Z\n",
        "# A   1   2   3\n",
        "# B   7   8   9\n",
        "# C  13  14  15\n",
        "# D  19  20  21"
      ],
      "execution_count": 0,
      "outputs": []
    },
    {
      "cell_type": "markdown",
      "metadata": {
        "id": "nHDENQwOz4Ak",
        "colab_type": "text"
      },
      "source": [
        "### Function Application & Mapping"
      ]
    },
    {
      "cell_type": "markdown",
      "metadata": {
        "id": "yHPRlYpuz76B",
        "colab_type": "text"
      },
      "source": [
        "- NumPy `ufuncs` (element-wise array methods) also work with pandas objects"
      ]
    },
    {
      "cell_type": "code",
      "metadata": {
        "id": "GaAyPDxV0MHY",
        "colab_type": "code",
        "colab": {}
      },
      "source": [
        "# Example - Using numpy.abs() with DataFrame\n",
        "df = pd.DataFrame(np.arange(-2,2).reshape((2,2)))\n",
        "\n",
        "print(np.abs(df))\n",
        "#    0  1\n",
        "# 0  2  1\n",
        "# 1  0  1"
      ],
      "execution_count": 0,
      "outputs": []
    },
    {
      "cell_type": "markdown",
      "metadata": {
        "id": "0H6OdIry0rgY",
        "colab_type": "text"
      },
      "source": [
        "- Using `apply()` method to apply a function on one-dimensional arays to each column or row."
      ]
    },
    {
      "cell_type": "code",
      "metadata": {
        "id": "b6jqdlfA0-HR",
        "colab_type": "code",
        "colab": {}
      },
      "source": [
        "# Example - Using apply() with DataFrame to execute a function for each row in DataFrame\n",
        "differenceMaxMin = lambda s: s.max() - s.min()\n",
        "\n",
        "df = pd.DataFrame(np.arange(-4,5).reshape(3,3))\n",
        "#    0  1  2\n",
        "# 0 -4 -3 -2\n",
        "# 1 -1  0  1\n",
        "# 2  2  3  4\n",
        "\n",
        "print(df.apply(differenceMaxMin)) # Apply for each columns\n",
        "# 0    6\n",
        "# 1    6\n",
        "# 2    6\n",
        "# dtype: int64\n",
        "\n",
        "print(df.apply(differenceMaxMin, axis='columns')) # Apply for each rows\n",
        "# 0    2\n",
        "# 1    2\n",
        "# 2    2\n",
        "# dtype: int64"
      ],
      "execution_count": 0,
      "outputs": []
    },
    {
      "cell_type": "markdown",
      "metadata": {
        "id": "dgo2hafB4unN",
        "colab_type": "text"
      },
      "source": [
        "- Using `applymap` (for DataFrame) and `map` (for Series) to do element-wise Python functions."
      ]
    },
    {
      "cell_type": "code",
      "metadata": {
        "id": "mWhOMNk748WW",
        "colab_type": "code",
        "colab": {}
      },
      "source": [
        "# Example - Do elemental-wise operation on an DataFrame\n",
        "df = pd.DataFrame(np.arange(-4,5).reshape((3,3)))\n",
        "\n",
        "negativeToZero = lambda x: 0 if x < 0 else x\n",
        "print(df.applymap(negativeToZero))\n",
        "#    0  1  2\n",
        "# 0  0  0  0\n",
        "# 1  0  0  1\n",
        "# 2  2  3  4"
      ],
      "execution_count": 0,
      "outputs": []
    },
    {
      "cell_type": "markdown",
      "metadata": {
        "id": "ooRq7GIZ5q2F",
        "colab_type": "text"
      },
      "source": [
        "### Sorting & Ranking"
      ]
    },
    {
      "cell_type": "markdown",
      "metadata": {
        "id": "1vWzECZp5tf3",
        "colab_type": "text"
      },
      "source": [
        "- Use `sort_index()` to sort lexicographically by row or column index and return a new & sorted object\n",
        "- Data is stored in ascending order by default. Set optional parameter `ascending=False` for descending order.\n",
        "- Use `sort_values()` to sort by values. Any missing values are sorted to the end of the Series by default"
      ]
    },
    {
      "cell_type": "code",
      "metadata": {
        "id": "HMSZUsc258WZ",
        "colab_type": "code",
        "colab": {}
      },
      "source": [
        "# Example - Sort a DataFrame by row index and column index\n",
        "df = pd.DataFrame(\n",
        "    np.arange(-4,5).reshape((3,3)),\n",
        "    columns=list('CAB'),\n",
        "    index=list('ZXY')\n",
        ")\n",
        "\n",
        "print(df.sort_index(axis=0), end='\\n\\n') # Sort by row index, add \"axis = 0\" is optional\n",
        "#    A  B  C\n",
        "# X -4 -3 -2\n",
        "# Y -1  0  1\n",
        "# Z  2  3  4\n",
        "\n",
        "print(df.sort_index(axis=1, ascending=False), end='\\n\\n') # Sort by column index in descending order\n",
        "#    A  B  C\n",
        "# X -4 -3 -2\n",
        "# Y -1  0  1\n",
        "# Z  2  3  4\n",
        "\n",
        "print(df.sort_values(by=['C'])) # Sort by values of column C in ascending order\n",
        "#    C  A  B\n",
        "# Z -4 -3 -2\n",
        "# X -1  0  1\n",
        "# Y  2  3  4"
      ],
      "execution_count": 0,
      "outputs": []
    },
    {
      "cell_type": "markdown",
      "metadata": {
        "id": "2YnJ9Iwh8k_P",
        "colab_type": "text"
      },
      "source": [
        "- Ranking assigns ranks from one through the number if valid data points in an array. By default, the `rank()` method breaks ties by assigning each group the mean rank.\n",
        "- Specify parameter `method=` to change tie-breaking method (e.g `method='first'` rank by appearnace order)\n",
        "- Specify parameter `ascending=` to change result order\n",
        "- Tie-breaking methods with rank:\n",
        "\n",
        "| Method | Description | \n",
        "|--------|-------------|\n",
        "| average | Default: assign the average rank to each entry in the equal group |\n",
        "| min | Use the minimum rank for the whole group |\n",
        "| max | Use the maximunm rank for the whole group |\n",
        "| first | Assign ranks in the order the values appear in the data |\n",
        "| dense | Like \"min\" but ranks always increase by 1 in between groups rather than the number of equal elements in a group |"
      ]
    },
    {
      "cell_type": "code",
      "metadata": {
        "id": "uOeqVPvx93so",
        "colab_type": "code",
        "colab": {}
      },
      "source": [
        "# Example - Ranking a Series\n",
        "s = pd.Series([6,2,8,9,2,9,0])\n",
        "\n",
        "print(s.rank(), end='\\n\\n') # Ranking by valuues\n",
        "# 0    4.0\n",
        "# 1    2.5\n",
        "# 2    5.0\n",
        "# 3    6.5\n",
        "# 4    2.5\n",
        "# 5    6.5\n",
        "# 6    1.0\n",
        "# dtype: float64\n",
        "\n",
        "print(s.rank(method='first')) # Ranking by first appearance\n",
        "# 0    4.0\n",
        "# 1    2.0\n",
        "# 2    5.0\n",
        "# 3    6.0\n",
        "# 4    3.0\n",
        "# 5    7.0\n",
        "# 6    1.0\n",
        "# dtype: float64"
      ],
      "execution_count": 0,
      "outputs": []
    },
    {
      "cell_type": "markdown",
      "metadata": {
        "id": "iO0wA3ieCcJP",
        "colab_type": "text"
      },
      "source": [
        "## 5.3 Summarizing & Computing Descriptive Statistics"
      ]
    },
    {
      "cell_type": "markdown",
      "metadata": {
        "id": "-fwNjubLU1KA",
        "colab_type": "text"
      },
      "source": [
        "- Options for reduction methods\n",
        "\n",
        "| Method | Description |\n",
        "|--------|-------------|\n",
        "| axis | Axis to reduce over; 0 for DataFrame's rows and 1 for columns |\n",
        "| skipna | Exclude missing values; `True` by default |\n",
        "| level | Reduce grouped by level if the axis is hierachically indexed (Multiindex)|"
      ]
    },
    {
      "cell_type": "markdown",
      "metadata": {
        "id": "-sXDl-09XHVK",
        "colab_type": "text"
      },
      "source": [
        "- Descriptive and summary statistics\n",
        "\n",
        "| Method | Description |\n",
        "|--------|-------------|\n",
        "| count | Number of non-NA values |\n",
        "| describe | Compute set of summary statistic for Series or each DataFrame column |\n",
        "| min, max | Compute minimum and maximum values |\n",
        "| argmin, argmax | Compute index locations (integers) at which minimum or maximum value obtained, respectively |\n",
        "| idxmin, idxmax | Compute index labels at which minimum or maximum value obtained, respectively |\n",
        "| quantile | Compute sample quantile ranging from 0 to 1 |\n",
        "| sum | Sum of values |\n",
        "| mean | Mean of values |\n",
        "| median | Arithmetic median (50% quantile) of values |\n",
        "| mad | Mean absolute deviation from mean value |\n",
        "| prod | Product of all values |\n",
        "| var | Sample variance of values |\n",
        "| std | Sample standard deviation of values |\n",
        "| skew | Sample skewness (third moment) of values |\n",
        "| kurt | Sample kurtosis (fourth moment) of values |\n",
        "| cumsum | Cumulative sum of values |\n",
        "| cummin, cummax | Cumulative minimum or maximum of values, respectively |\n",
        "| cumprod | Cumulative product of values |\n",
        "| diff | Compute frist arithmetic difference |\n",
        "| pct_change | Compute percent changes |"
      ]
    },
    {
      "cell_type": "markdown",
      "metadata": {
        "id": "rF8D6JveYoL-",
        "colab_type": "text"
      },
      "source": [
        "### Unique Values, Value Counts & Membership"
      ]
    },
    {
      "cell_type": "markdown",
      "metadata": {
        "id": "BU3uKXaDYq3K",
        "colab_type": "text"
      },
      "source": [
        "- Unique, value counts, and set memebership methods\n",
        "\n",
        "| Method | Description |\n",
        "|--------|-------------|\n",
        "| isin | Compute boolean array indicating whether each Series values is contained in the passed sequence of values |\n",
        "| match | Compute integer indices for each vale in an array into another array of distinct values, helpful for data alignment and join-type operations |\n",
        "| unique | Compute array of unique values in a Series, returned in the orer observed |\n",
        "| values_counts | Return a Series containing unique values as its index and frequencies as its values, ordered count in descending order |"
      ]
    }
  ]
}